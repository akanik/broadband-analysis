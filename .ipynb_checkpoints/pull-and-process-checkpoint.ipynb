{
 "cells": [
  {
   "cell_type": "code",
   "execution_count": 113,
   "metadata": {},
   "outputs": [],
   "source": [
    "import pandas as pd\n",
    "import geopandas as gpd\n",
    "from urllib.error import HTTPError\n",
    "import glob, os\n",
    "import re\n",
    "\n",
    "pd.set_option('display.max_rows', None)\n",
    "pd.set_option('display.max_columns', None)"
   ]
  },
  {
   "cell_type": "markdown",
   "metadata": {},
   "source": [
    "I think everything is going to be much more efficient if we go state-by-state instead of chunking things up. This is likely why they come in these chunks to begin with. So the process will be as follows:\n",
    "\n",
    "For each state in our list of US states, \n",
    "- pull the census blocks for that state\n",
    "- segment the us_ookla data\n",
    "- join block data to ookla then aggregate ookla and join that data back onto blocks shapefile (already have a function for this)\n",
    "- pull the FCC Form 477 data\n",
    "- aggregate FCC 477 data and join onto blocks shapefile\n",
    "- join places data to blocks so we can filter by \"city\"\n",
    "- export new state-specific blocks shapefile"
   ]
  },
  {
   "cell_type": "code",
   "execution_count": 2,
   "metadata": {},
   "outputs": [],
   "source": [
    "states = gpd.read_file('../../../GIS/tl_2019_us_state/tl_2019_us_state.shp')\n",
    "states = states.sort_values('NAME',ascending=True)\n",
    "\n",
    "# use like this: states_abb_dict[fips_code_str]['STUSPS']\n",
    "states_abb_dict = states[['STATEFP','STUSPS']].set_index('STATEFP').to_dict('index')\n",
    "\n",
    "states_list = list(states['STATEFP'].unique())"
   ]
  },
  {
   "cell_type": "code",
   "execution_count": null,
   "metadata": {},
   "outputs": [],
   "source": [
    "us_ookla = gpd.read_file('../data/ookla/2020-01-01_performance_fixed_tiles/gps_fixed_tiles_w_us_state.shp')\n",
    "# convert to Mbps for easier reading\n",
    "us_ookla['avg_d_mbps'] = us_ookla['avg_d_kbps']/1000\n",
    "us_ookla['avg_u_mbps'] = us_ookla['avg_u_kbps']/1000"
   ]
  },
  {
   "cell_type": "code",
   "execution_count": 4,
   "metadata": {},
   "outputs": [
    {
     "name": "stderr",
     "output_type": "stream",
     "text": [
      "/Users/akanik/.local/share/virtualenvs/broadband-cNLU4PFc/lib/python3.8/site-packages/IPython/core/interactiveshell.py:3146: DtypeWarning: Columns (4,8) have mixed types.Specify dtype option on import or set low_memory=False.\n",
      "  has_raised = await self.run_ast_nodes(code_ast.body, cell_name,\n",
      "<ipython-input-4-11ad334b1397>:7: FutureWarning: The default value of regex will change from True to False in a future version. In addition, single character regular expressions will*not* be treated as literal strings when regex=True.\n",
      "  df['blockGEOID'] = df['county']+df['tract'].str.replace('.','')+df['block']\n"
     ]
    }
   ],
   "source": [
    "filenames = ['geocorr2018-al-hi-plus-mo.csv','geocorr2018-id-ms.csv','geocorr2018-mt-pa.csv','geocorr2018-ri-wy.csv']\n",
    "corr_dtypes = {'county':'str','tract':'str','block':'str','state':'str','place':'str'}\n",
    "\n",
    "geocorr_list = []\n",
    "for file in filenames:\n",
    "    df = pd.read_csv('../../../GIS/geocorr-blocks-places/v2/'+file, dtype=corr_dtypes)\n",
    "    df['blockGEOID'] = df['county']+df['tract'].str.replace('.','')+df['block']\n",
    "    geocorr_list.append(df)\n",
    "    \n",
    "block_place = pd.concat(geocorr_list)"
   ]
  },
  {
   "cell_type": "code",
   "execution_count": 28,
   "metadata": {},
   "outputs": [
    {
     "data": {
      "text/html": [
       "<div>\n",
       "<style scoped>\n",
       "    .dataframe tbody tr th:only-of-type {\n",
       "        vertical-align: middle;\n",
       "    }\n",
       "\n",
       "    .dataframe tbody tr th {\n",
       "        vertical-align: top;\n",
       "    }\n",
       "\n",
       "    .dataframe thead th {\n",
       "        text-align: right;\n",
       "    }\n",
       "</style>\n",
       "<table border=\"1\" class=\"dataframe\">\n",
       "  <thead>\n",
       "    <tr style=\"text-align: right;\">\n",
       "      <th></th>\n",
       "      <th>county</th>\n",
       "      <th>tract</th>\n",
       "      <th>block</th>\n",
       "      <th>state</th>\n",
       "      <th>placefp</th>\n",
       "      <th>stab</th>\n",
       "      <th>cntyname</th>\n",
       "      <th>placenm</th>\n",
       "      <th>pop10</th>\n",
       "      <th>afact</th>\n",
       "      <th>blockGEOID</th>\n",
       "    </tr>\n",
       "  </thead>\n",
       "  <tbody>\n",
       "    <tr>\n",
       "      <th>2406529</th>\n",
       "      <td>42003</td>\n",
       "      <td>0510.0</td>\n",
       "      <td>2003</td>\n",
       "      <td>42</td>\n",
       "      <td>61000</td>\n",
       "      <td>PA</td>\n",
       "      <td>Allegheny PA</td>\n",
       "      <td>Pittsburgh city, PA</td>\n",
       "      <td>850</td>\n",
       "      <td>1</td>\n",
       "      <td>420030510002003</td>\n",
       "    </tr>\n",
       "  </tbody>\n",
       "</table>\n",
       "</div>"
      ],
      "text/plain": [
       "        county   tract block state placefp stab      cntyname  \\\n",
       "2406529  42003  0510.0  2003    42   61000   PA  Allegheny PA   \n",
       "\n",
       "                     placenm pop10 afact       blockGEOID  \n",
       "2406529  Pittsburgh city, PA   850    1   420030510002003  "
      ]
     },
     "execution_count": 28,
     "metadata": {},
     "output_type": "execute_result"
    }
   ],
   "source": [
    "#420030510002003\n",
    "block_place.loc[block_place['blockGEOID'] == '420030510002003'].head()\n",
    "#block_place.loc[block_place.index == 2673297]['blockGEOID'].values"
   ]
  },
  {
   "cell_type": "code",
   "execution_count": null,
   "metadata": {},
   "outputs": [],
   "source": [
    "straglers = ['04','11','19','25','46','51']\n",
    "pr = ['72']"
   ]
  },
  {
   "cell_type": "markdown",
   "metadata": {},
   "source": [
    "PR's FCC file requires special encoding so you need to run that separately. `encoding='ISO-8859-1`"
   ]
  },
  {
   "cell_type": "code",
   "execution_count": null,
   "metadata": {},
   "outputs": [],
   "source": [
    "all_blocks = []"
   ]
  },
  {
   "cell_type": "code",
   "execution_count": null,
   "metadata": {},
   "outputs": [],
   "source": [
    "\n",
    "for state in pr:\n",
    "    state_abb = states_abb_dict[state]['STUSPS']\n",
    "    \n",
    "    print('***** Processing state', state_abb, '*****')\n",
    "    \n",
    "    print('Pulling census blocks...')\n",
    "    block_url = 'https://www2.census.gov/geo/tiger/TIGER2019/TABBLOCK/tl_2019_' + state + '_tabblock10.zip'\n",
    "    try:\n",
    "        print('Trying ',block_url)\n",
    "        blocks = gpd.read_file(block_url)\n",
    "    except HTTPError as err:\n",
    "        if err.code == 404:\n",
    "            print('no file for '+state_abb)\n",
    "        else:\n",
    "            raise\n",
    "    \n",
    "    blocks = blocks\n",
    "    blocks = blocks.to_crs('EPSG:4326')\n",
    "    \n",
    "    print('Creating ookla chunk...')\n",
    "    ookla_chunk = us_ookla.loc[us_ookla['STATEFP'] == state]\n",
    "    ookla_chunk = ookla_chunk[['quadkey','avg_d_kbps','avg_u_kbps','avg_lat_ms','tests','devices',\n",
    "                               'geometry','STATEFP','STATENS','avg_d_mbps','avg_u_mbps']]\n",
    "    \n",
    "    print('Doing spatial join...')\n",
    "    \n",
    "    ookla_blocks = gpd.sjoin(ookla_chunk, blocks, how='left', op='intersects')\n",
    "    \n",
    "    print('Grouping by blocks...')\n",
    "    ookla_grouped = ookla_blocks.groupby('GEOID10').agg({'quadkey':'count','tests':'sum','devices':'sum',\n",
    "                                                         'avg_d_mbps':['max','min','mean'],\n",
    "                                                         'avg_u_mbps':['max','min','mean']}).reset_index()\n",
    "    ookla_grouped.columns = ['_'.join(col).strip() for col in ookla_grouped.columns.values]\n",
    "    \n",
    "    print('Joining ookla grouped data back to blocks...')\n",
    "    blocks_ookla = blocks.merge(ookla_grouped,left_on='GEOID10',right_on='GEOID10_',how='left')\n",
    "    \n",
    "    print('Pulling FCC data...')\n",
    "    dtypes = {'BlockCode':'str'}\n",
    "    pr_encoding = 'ISO-8859-1'\n",
    "    fcc_fixed_sat = pd.read_csv('https://transition.fcc.gov/form477/BroadbandData/Fixed/Dec19/Version%201/'+state_abb+'-Fixed-Dec2019.zip',compression='zip',dtype=dtypes, encoding=pr_encoding)\n",
    "    \n",
    "    print('Grouping FCC data...')\n",
    "    fcc_grouped = fcc_fixed_sat.groupby('BlockCode').agg({'DBAName':'sum','Provider_Id':'nunique',\n",
    "                                                          'MaxAdDown':['max','min','mean'],\n",
    "                                                          'MaxAdUp':['max','min','mean']}).reset_index()\n",
    "    fcc_grouped.columns = ['_'.join(col).strip() for col in fcc_grouped.columns.values]\n",
    "    \n",
    "    print('Joining ookla grouped data back to blocks...')\n",
    "    blocks_ookla_fcc = blocks_ookla.merge(fcc_grouped,left_on='GEOID10',right_on='BlockCode_',how='left')\n",
    "    blocks_ookla_fcc.rename(columns={'quadkey_count':'quadkeyCNT','tests_sum':'testSUM','devices_sum':'deviceSUM',\n",
    "                                    'avg_d_mbps_max':'ook_dmax', 'avg_d_mbps_min':'ook_dmin', 'avg_d_mbps_mean':'ook_dmean',\n",
    "                                     'avg_u_mbps_max':'ook_umax','avg_u_mbps_min':'ook_umin', 'avg_u_mbps_mean':'ook_umean',\n",
    "                                     'BlockCode_':'block_cd','DBAName_sum':'providers','Provider_Id_nunique':'provideCNT',\n",
    "                                     'MaxAdDown_max':'fcc_dmax','MaxAdDown_min':'fcc_dmin','MaxAdDown_mean':'fcc_dmean',\n",
    "                                     'MaxAdUp_max':'fcc_umax', 'MaxAdUp_min':'fcc_umin','MaxAdUp_mean':'fcc_umean'}, inplace=True)\n",
    "    \n",
    "    print('Find different between FCC advertised and Ookla observed...')\n",
    "    blocks_ookla_fcc['dmean_diff'] = blocks_ookla_fcc['fcc_dmean'] - blocks_ookla_fcc['ook_dmean']\n",
    "    blocks_ookla_fcc['umean_diff'] = blocks_ookla_fcc['fcc_umean'] - blocks_ookla_fcc['ook_umean']\n",
    "    \n",
    "    print('Join place names to blocks...')\n",
    "    block_place = block_place[['blockGEOID','placenm','cntyname','placefp']]\n",
    "    blocks_ookla_fcc_places = blocks_ookla_fcc.merge(block_place,left_on='GEOID10',right_on='blockGEOID',how='left')\n",
    "        \n",
    "    print('Writing blocks with ookla to file...')\n",
    "    blocks_ookla_fcc_places.to_file('../GIS/blocks_ookla_fcc/tl_2019_'+state+'_tabblock10_ookla_fcc.shp')\n",
    "    \n",
    "    print('Adding blocks to all_blocks list...')\n",
    "    all_blocks.append(blocks_ookla_fcc_places)"
   ]
  },
  {
   "cell_type": "code",
   "execution_count": null,
   "metadata": {},
   "outputs": [],
   "source": [
    "block_place_ookla = block_place_ookla[['STATEFP10', 'COUNTYFP10', 'TRACTCE10', 'BLOCKCE10', 'GEOID10',\n",
    "                                       'NAME10', 'MTFCC10', 'UR10', 'UACE10', 'UATYPE', 'FUNCSTAT10',\n",
    "                                       'ALAND10', 'AWATER10', 'INTPTLAT10', 'INTPTLON10', 'geometry',\n",
    "                                       'GEOID10_', 'quadkeyCNT', 'testSUM', 'deviceSUM', 'ook_dmax',\n",
    "                                       'ook_dmin', 'ook_dmean', 'ook_umax', 'ook_umin', 'ook_umean',\n",
    "                                       'block_cd', 'providers', 'provideCNT', 'fcc_dmax', 'fcc_dmin',\n",
    "                                       'fcc_dmean', 'fcc_umax', 'fcc_umin', 'fcc_umean', 'dmean_diff',\n",
    "                                       'umean_diff']]\n",
    "\n",
    "block_place_ookla = block_place_ookla.merge(block_place[['blockGEOID','placefp','placenm']],left_on='GEOID10',right_on='blockGEOID',how='left')"
   ]
  },
  {
   "cell_type": "code",
   "execution_count": null,
   "metadata": {},
   "outputs": [],
   "source": [
    "block_place_ookla = pd.concat(all_blocks)\n",
    "\n",
    "with_diff = block_place_ookla.loc[~(block_place_ookla['dmean_diff'].isna())]\n",
    "with_diff['tract_geoid'] = with_diff['STATEFP10'] + with_diff['COUNTYFP10'] + with_diff['TRACTCE10']\n",
    "\n",
    "in_place = with_diff.loc[~(with_diff['placefp'].isna())]\n",
    "in_place['placefp'] = in_place['placefp'].apply(lambda x: str(x).zfill(5))\n",
    "in_place['place_geoid'] = in_place['STATEFP10'] + in_place['placefp']"
   ]
  },
  {
   "cell_type": "code",
   "execution_count": null,
   "metadata": {},
   "outputs": [],
   "source": [
    "in_place.to_file('../GIS/blocks_ookla_fcc/tl_2019_INPLACE_tabblock10_ookla_fcc.shp')"
   ]
  },
  {
   "cell_type": "code",
   "execution_count": null,
   "metadata": {},
   "outputs": [],
   "source": [
    "print(len(block_place_ookla))\n",
    "print(len(with_diff))\n",
    "print(len(in_place))"
   ]
  },
  {
   "cell_type": "code",
   "execution_count": null,
   "metadata": {},
   "outputs": [],
   "source": [
    "6618282-6544499"
   ]
  },
  {
   "cell_type": "markdown",
   "metadata": {},
   "source": [
    "## For when you lose all your variables"
   ]
  },
  {
   "cell_type": "code",
   "execution_count": 15,
   "metadata": {},
   "outputs": [
    {
     "name": "stderr",
     "output_type": "stream",
     "text": [
      "/Users/akanik/.local/share/virtualenvs/broadband-cNLU4PFc/lib/python3.8/site-packages/geopandas/geodataframe.py:853: SettingWithCopyWarning: \n",
      "A value is trying to be set on a copy of a slice from a DataFrame.\n",
      "Try using .loc[row_indexer,col_indexer] = value instead\n",
      "\n",
      "See the caveats in the documentation: https://pandas.pydata.org/pandas-docs/stable/user_guide/indexing.html#returning-a-view-versus-a-copy\n",
      "  super(GeoDataFrame, self).__setitem__(key, value)\n"
     ]
    }
   ],
   "source": [
    "#all_blocks = []\n",
    "#\n",
    "#shape_dir = '../GIS/blocks_ookla_fcc/'\n",
    "#\n",
    "#for file in glob.glob(shape_dir+\"*.shp\"):\n",
    "#    print('Working on',file,'...')\n",
    "#    blocks_ookla_fcc_places = gpd.read_file(file)\n",
    "#    all_blocks.append(blocks_ookla_fcc_places)\n",
    "#    \n",
    "#block_place_ookla = pd.concat(all_blocks)\n",
    "#\n",
    "#block_place_ookla = block_place_ookla[['STATEFP10', 'COUNTYFP10', 'TRACTCE10', 'BLOCKCE10', 'GEOID10',\n",
    "#                                       'NAME10', 'MTFCC10', 'UR10', 'UACE10', 'UATYPE', 'FUNCSTAT10',\n",
    "#                                       'ALAND10', 'AWATER10', 'INTPTLAT10', 'INTPTLON10', 'geometry',\n",
    "#                                       'GEOID10_', 'quadkeyCNT', 'testSUM', 'deviceSUM', 'ook_dmax',\n",
    "#                                       'ook_dmin', 'ook_dmean', 'ook_umax', 'ook_umin', 'ook_umean',\n",
    "#                                       'block_cd', 'providers', 'provideCNT', 'fcc_dmax', 'fcc_dmin',\n",
    "#                                       'fcc_dmean', 'fcc_umax', 'fcc_umin', 'fcc_umean', 'dmean_diff',\n",
    "#                                       'umean_diff']]\n",
    "\n",
    "#block_place_ookla = block_place_ookla.merge(block_place[['blockGEOID','placefp','placenm']],left_on='GEOID10',right_on='blockGEOID',how='left')\n",
    "\n",
    "#with_diff = block_place_ookla.loc[~(block_place_ookla['dmean_diff'].isna())]\n",
    "#with_diff['tract_geoid'] = with_diff['STATEFP10'] + with_diff['COUNTYFP10'] + with_diff['TRACTCE10']\n",
    "#\n",
    "#in_place = with_diff.loc[~(with_diff['placefp'].isna())]\n",
    "#in_place['placefp'] = in_place['placefp'].apply(lambda x: str(x).zfill(5))\n",
    "#in_place['place_geoid'] = in_place['STATEFP10'] + in_place['placefp']\n",
    "\n",
    "\n",
    "def get_place_fips(x):\n",
    "    if pd.isnull(x['placefp']):\n",
    "        return ''\n",
    "    else:\n",
    "        placefp = str(x['placefp']).zfill(5)\n",
    "        return x['STATEFP10'] + placefp\n",
    "\n",
    "#you might need to run this again in case you fuck up the with_diff or in_place vars\n",
    "#with_diff = block_place_ookla.loc[~(block_place_ookla['dmean_diff'].isna())]\n",
    "#with_diff['tract_geoid'] = with_diff['STATEFP10'] + with_diff['COUNTYFP10'] + with_diff['TRACTCE10']\n",
    "with_diff['place_geoid'] = with_diff.apply(lambda x: get_place_fips(x), axis=1)\n",
    "\n",
    "in_place = with_diff.loc[~(with_diff['placefp'] == '')]"
   ]
  },
  {
   "cell_type": "code",
   "execution_count": 31,
   "metadata": {},
   "outputs": [],
   "source": [
    "in_place = with_diff.loc[~(with_diff['placefp'].isna())]"
   ]
  },
  {
   "cell_type": "code",
   "execution_count": 32,
   "metadata": {},
   "outputs": [
    {
     "data": {
      "text/plain": [
       "STATEFP10\n",
       "01    141649\n",
       "02     11566\n",
       "04    124131\n",
       "05     82252\n",
       "06    502474\n",
       "08    121650\n",
       "09     58371\n",
       "10     19468\n",
       "11      6351\n",
       "12    389266\n",
       "13    176339\n",
       "15     16260\n",
       "16     52977\n",
       "17    314282\n",
       "18    180519\n",
       "19     91262\n",
       "20     99947\n",
       "21     96691\n",
       "22    113789\n",
       "23     33983\n",
       "24    105056\n",
       "25    128211\n",
       "26    203224\n",
       "27    132248\n",
       "28     70804\n",
       "29    168885\n",
       "30     35780\n",
       "31     76818\n",
       "32     39469\n",
       "33     32412\n",
       "34    147777\n",
       "35     57065\n",
       "36    255382\n",
       "37    205001\n",
       "38     30496\n",
       "39    253054\n",
       "40    121700\n",
       "41     91611\n",
       "42    303170\n",
       "44     21554\n",
       "45    109630\n",
       "46     21642\n",
       "47    149737\n",
       "48    554642\n",
       "49     54797\n",
       "50     17470\n",
       "51    159936\n",
       "53    132101\n",
       "54     70477\n",
       "55    137158\n",
       "56     23965\n",
       "Name: GEOID10, dtype: int64"
      ]
     },
     "execution_count": 32,
     "metadata": {},
     "output_type": "execute_result"
    }
   ],
   "source": [
    "in_place.groupby('STATEFP10')['GEOID10'].count()"
   ]
  },
  {
   "cell_type": "code",
   "execution_count": 33,
   "metadata": {},
   "outputs": [
    {
     "name": "stdout",
     "output_type": "stream",
     "text": [
      "11166336\n",
      "6618282\n",
      "6544499\n"
     ]
    }
   ],
   "source": [
    "print(len(block_place_ookla))\n",
    "print(len(with_diff))\n",
    "print(len(in_place))"
   ]
  },
  {
   "cell_type": "markdown",
   "metadata": {},
   "source": [
    "### Differences between observed and advertised download speeds?\n",
    "observed = ookla\n",
    "\n",
    "advertised = fcc\n",
    "\n",
    "No real difference between observed and advertised among all blocks and those blocks in places. But this isn't surprising now that we realize there are only 73783 out of 6.6 million blocks not in \"places\". In reality there are more than 11 million blocks in the US, but only 6.6 million of them have Ookla and FCC data."
   ]
  },
  {
   "cell_type": "code",
   "execution_count": 34,
   "metadata": {},
   "outputs": [
    {
     "name": "stdout",
     "output_type": "stream",
     "text": [
      "All blocks with diff: 30.495458728221326\n",
      "All blocks in places: 30.50621822133352\n"
     ]
    }
   ],
   "source": [
    "print('All blocks with diff:',with_diff.dmean_diff.mean())\n",
    "print('All blocks in places:',in_place.dmean_diff.mean())"
   ]
  },
  {
   "cell_type": "markdown",
   "metadata": {},
   "source": [
    "But the overstatement of FCC speeds is clear."
   ]
  },
  {
   "cell_type": "code",
   "execution_count": null,
   "metadata": {},
   "outputs": [],
   "source": [
    "with_diff.fcc_dmean.mean()"
   ]
  },
  {
   "cell_type": "code",
   "execution_count": null,
   "metadata": {},
   "outputs": [],
   "source": [
    "with_diff.ook_dmean.mean()"
   ]
  },
  {
   "cell_type": "markdown",
   "metadata": {},
   "source": [
    "And same for places. So also what FCC is advertising is higher than what even the average people are getting. And those they advertise higher speeds in \"cities\" than they do among all census blocks, the observed download speed in \"cities\" is lower than the observed speeds in all census blocks. "
   ]
  },
  {
   "cell_type": "code",
   "execution_count": null,
   "metadata": {},
   "outputs": [],
   "source": [
    "in_place.fcc_dmean.mean()"
   ]
  },
  {
   "cell_type": "code",
   "execution_count": null,
   "metadata": {},
   "outputs": [],
   "source": [
    "in_place.ook_dmean.mean()"
   ]
  },
  {
   "cell_type": "markdown",
   "metadata": {},
   "source": [
    "## Pulling in demographics\n",
    "\n",
    "We really need to pull up some target cities and look at those. Like cities we know have grown boundary-wise in the past 10 or 20 years and definitely all the large cities, like about 100,000 pop.\n",
    "\n",
    "Use the census python api pull method.\n",
    "\n",
    "Ok looks like there aren't really that many datasets at the block level. Tract, yes. Block no. But we should have the tract stored in our data right? Ok yes. So we can join these block data to tract data and that will at least be better than place level."
   ]
  },
  {
   "cell_type": "code",
   "execution_count": null,
   "metadata": {},
   "outputs": [],
   "source": [
    "with_diff.columns"
   ]
  },
  {
   "cell_type": "code",
   "execution_count": null,
   "metadata": {},
   "outputs": [],
   "source": [
    "MYKEY = 'a7c900315653b8a0b61a024ae325cc7941558767'\n",
    "\n",
    "#income/poverty table: S1701\n",
    "## - percent below poverty level = S1701_C03_001E\n",
    "#race & total pop table: DP05\n",
    "## - total pop = DP05_0001E\n",
    "## - percent white alone = DP05_0037PE\n",
    "\n",
    "tract_poverty_dfs = []\n",
    "tract_pop_race_dfs = []\n",
    "\n",
    "place_poverty_dfs = []\n",
    "place_pop_race_dfs = []\n",
    "\n",
    "for state in states_list:\n",
    "    state_abb = states_abb_dict[state]['STUSPS']\n",
    "    \n",
    "    print('***** Processing state', state_abb, '*****')\n",
    "    \n",
    "    try: \n",
    "        tract_poverty_url = 'https://api.census.gov/data/2019/acs/acs5/subject?get=NAME,S1701_C03_001E&for=tract:*&in=state:'+ state +'&key='+MYKEY\n",
    "        tract_poverty = pd.read_json(tract_poverty_url)\n",
    "        tract_poverty_dfs.append(tract_poverty)\n",
    "\n",
    "        tract_pop_race_url = 'https://api.census.gov/data/2019/acs/acs5/profile?get=NAME,DP05_0001E,DP05_0037PE&for=tract:*&in=state:'+ state +'&key='+MYKEY\n",
    "        tract_pop_race = pd.read_json(tract_pop_race_url)\n",
    "        tract_pop_race_dfs.append(tract_pop_race)\n",
    "\n",
    "        place_poverty_url = 'https://api.census.gov/data/2019/acs/acs5/subject?get=NAME,PLACE,S1701_C03_001E&for=place:*&in=state:'+ state +'&key='+MYKEY\n",
    "        place_poverty = pd.read_json(place_poverty_url)\n",
    "        place_poverty_dfs.append(place_poverty)\n",
    "\n",
    "        place_pop_race_url = 'https://api.census.gov/data/2019/acs/acs5/profile?get=NAME,PLACE,DP05_0001E,DP05_0037PE&for=place:*&in=state:'+ state +'&key='+MYKEY\n",
    "        place_pop_race = pd.read_json(place_pop_race_url)\n",
    "        place_pop_race_dfs.append(place_pop_race)\n",
    "    except ValueError:\n",
    "        print('No values data for', state_abb)\n",
    "        \n",
    "    \n",
    "all_tract_poverty = pd.concat(tract_poverty_dfs)\n",
    "all_tract_poverty.rename(columns={0:'name',1:'perc_below_poverty',2:'state',3:'county',4:'tract'},inplace=True)\n",
    "all_tract_pop_race = pd.concat(tract_pop_race_dfs)\n",
    "all_tract_pop_race.rename(columns={0:'name',1:'pop',2:'perc_white',3:'state',4:'county',5:'tract'},inplace=True)\n",
    "all_tract_demo = all_tract_pop_race.merge(all_tract_poverty, on='name', how='left')\n",
    "all_tract_demo = all_tract_demo[['name','pop','perc_white','perc_below_poverty','state_x','county_x','tract_x']]\n",
    "all_tract_demo.rename(columns={'state_x':'state_fips','county_x':'county_fips','tract_x':'tract_fips'},inplace=True)\n",
    "\n",
    "all_place_poverty = pd.concat(place_poverty_dfs)\n",
    "all_place_poverty.rename(columns={0:'name',1:'place',2:'perc_below_poverty',3:'state',4:'place'},inplace=True)\n",
    "all_place_pop_race = pd.concat(place_pop_race_dfs)\n",
    "all_place_pop_race.rename(columns={0:'name',1:'place',2:'pop',3:'perc_white',4:'state',5:'place'},inplace=True)\n",
    "all_place_demo = all_place_pop_race.merge(all_place_poverty, on='name', how='left')\n",
    "all_place_demo = all_place_demo[['name','pop','perc_white','perc_below_poverty','state_x','place_x']]\n",
    "all_place_demo.rename(columns={'state_x':'state_fips','place_x':'place_fips'},inplace=True)"
   ]
  },
  {
   "cell_type": "code",
   "execution_count": null,
   "metadata": {},
   "outputs": [],
   "source": [
    "place_pop_race.head()"
   ]
  },
  {
   "cell_type": "code",
   "execution_count": null,
   "metadata": {},
   "outputs": [],
   "source": [
    "#the following two lines exist only because you fucked up the column rename in the bulk\n",
    "#download code. You've fixed it in the bulk download code so if you run that again you shouldn't\n",
    "#need to run these again\n",
    "#all_place_demo = all_place_demo[['name','perc_white','state_x','place_x',5,'state_y']]\n",
    "#all_place_demo.rename(columns={'perc_white':'pop','state_x':'perc_white','place_x':'state_fips',5:'place_fips',\n",
    "#                              'state_y':'perc_below_poverty'},inplace=True)\n",
    "\n",
    "all_tract_demo.to_csv('../../../GIS/census-tracts/acs5-all-tract-pop-race-poverty.csv')\n",
    "all_place_demo.to_csv('../../../GIS/census-places/acs5-all-place-pop-race-poverty.csv')"
   ]
  },
  {
   "cell_type": "markdown",
   "metadata": {},
   "source": [
    "## Joining demographic data to the speed data"
   ]
  },
  {
   "cell_type": "markdown",
   "metadata": {},
   "source": [
    "We're going to want to remove all negative values and maybe zero population tracts."
   ]
  },
  {
   "cell_type": "code",
   "execution_count": 35,
   "metadata": {},
   "outputs": [],
   "source": [
    "not_in_place = with_diff.loc[~(with_diff['tract_geoid'].isin(list(in_place['tract_geoid'].unique())))]\n",
    "not_in_place_list = list(not_in_place['tract_geoid'].unique())"
   ]
  },
  {
   "cell_type": "code",
   "execution_count": 36,
   "metadata": {},
   "outputs": [
    {
     "name": "stdout",
     "output_type": "stream",
     "text": [
      "11166336\n",
      "6618282\n",
      "6544499\n",
      "73783\n"
     ]
    }
   ],
   "source": [
    "print(len(block_place_ookla))\n",
    "print(len(with_diff))\n",
    "print(len(in_place))\n",
    "print(len(not_in_place))"
   ]
  },
  {
   "cell_type": "code",
   "execution_count": 37,
   "metadata": {},
   "outputs": [],
   "source": [
    "def get_msa_size_class(x):\n",
    "    if x['pop']>1000000:\n",
    "        return 'very large'\n",
    "    elif x['pop']>499999:\n",
    "        return 'large'\n",
    "    elif x['pop']>249999:\n",
    "        return 'midsized'\n",
    "    elif x['pop']>50000:\n",
    "        return 'small'\n",
    "    else:\n",
    "        return 'town/rural'\n",
    "    \n",
    "def get_tract_poverty_class(x):\n",
    "    if x['perc_below_poverty']>49.99:\n",
    "        return 'extreme'\n",
    "    elif x['perc_below_poverty']>29.99:\n",
    "        return 'high'\n",
    "    elif x['perc_below_poverty']>14.99:\n",
    "        return 'high average'\n",
    "    elif x['perc_below_poverty']>4.99:\n",
    "        return 'low average'\n",
    "    elif x['perc_below_poverty']>0:\n",
    "        return 'low'\n",
    "    else:\n",
    "        return 'error'\n",
    "\n",
    "all_tract_demo = pd.read_csv('../../../GIS/census-tracts/acs5-all-tract-pop-race-poverty.csv', dtype={'state_x':'str','county_x':'str','tract_x':'str'})\n",
    "all_place_demo = pd.read_csv('../../../GIS/census-places/acs5-all-place-pop-race-poverty.csv', dtype={'state_fips':'str','place_fips':'str'})\n",
    "\n",
    "all_tract_demo = all_tract_demo[['name','pop','perc_white','perc_below_poverty','state_x','county_x','tract_x']]\n",
    "all_tract_demo.rename(columns={'state_x':'state_fips','county_x':'county_fips','tract_x':'tract_fips'},inplace=True)\n",
    "\n",
    "all_tract_demo = all_tract_demo.loc[~(all_tract_demo['name'] == 'NAME')]\n",
    "all_place_demo = all_place_demo.loc[~(all_place_demo['name'] == 'NAME')]\n",
    "\n",
    "all_tract_demo['tract_geoid'] = all_tract_demo['state_fips']+all_tract_demo['county_fips']+all_tract_demo['tract_fips']\n",
    "all_tract_demo['pop'] = all_tract_demo['pop'].astype('float')\n",
    "all_tract_demo['perc_white'] = all_tract_demo['perc_white'].astype('float')\n",
    "all_tract_demo['perc_below_poverty'] = all_tract_demo['perc_below_poverty'].astype('float')\n",
    "\n",
    "all_place_demo['place_geoid'] = all_place_demo['state_fips']+all_place_demo['place_fips']\n",
    "all_place_demo['pop'] = all_place_demo['pop'].astype('float')\n",
    "all_place_demo['perc_white'] = all_place_demo['perc_white'].astype('float')\n",
    "all_place_demo['perc_below_poverty'] = all_place_demo['perc_below_poverty'].astype('float')\n",
    "\n",
    "all_tract_demo = all_tract_demo.loc[(~(all_tract_demo['pop'] == 0))]\n",
    "all_place_demo = all_place_demo.loc[(~(all_place_demo['pop'] == 0))]\n",
    "\n",
    "all_place_demo['city_cat'] = all_place_demo.apply(lambda x: get_msa_size_class(x),axis=1)\n",
    "all_tract_demo['tract_poverty_cat'] = all_tract_demo.apply(lambda x: get_tract_poverty_class(x),axis=1)"
   ]
  },
  {
   "cell_type": "code",
   "execution_count": 38,
   "metadata": {},
   "outputs": [
    {
     "name": "stdout",
     "output_type": "stream",
     "text": [
      "tract count: 73298\n",
      "place count: 29313\n"
     ]
    }
   ],
   "source": [
    "print('tract count:',len(all_tract_demo))\n",
    "print('place count:',len(all_place_demo))"
   ]
  },
  {
   "cell_type": "code",
   "execution_count": null,
   "metadata": {},
   "outputs": [],
   "source": [
    "all_tract_demo.sort_values('pop',ascending=True).head()"
   ]
  },
  {
   "cell_type": "code",
   "execution_count": null,
   "metadata": {},
   "outputs": [],
   "source": [
    "all_place_demo.sort_values('pop',ascending=False).head()"
   ]
  },
  {
   "cell_type": "markdown",
   "metadata": {},
   "source": [
    "## Diff analysis in places and tracts"
   ]
  },
  {
   "cell_type": "markdown",
   "metadata": {},
   "source": [
    "### Is the diff more pronounced in cities with higher or lower populations?"
   ]
  },
  {
   "cell_type": "code",
   "execution_count": 39,
   "metadata": {},
   "outputs": [
    {
     "data": {
      "text/html": [
       "<div>\n",
       "<style scoped>\n",
       "    .dataframe tbody tr th:only-of-type {\n",
       "        vertical-align: middle;\n",
       "    }\n",
       "\n",
       "    .dataframe tbody tr th {\n",
       "        vertical-align: top;\n",
       "    }\n",
       "\n",
       "    .dataframe thead th {\n",
       "        text-align: right;\n",
       "    }\n",
       "</style>\n",
       "<table border=\"1\" class=\"dataframe\">\n",
       "  <thead>\n",
       "    <tr style=\"text-align: right;\">\n",
       "      <th></th>\n",
       "      <th>Unnamed: 0</th>\n",
       "      <th>name</th>\n",
       "      <th>pop</th>\n",
       "      <th>perc_white</th>\n",
       "      <th>state_fips</th>\n",
       "      <th>place_fips</th>\n",
       "      <th>perc_below_poverty</th>\n",
       "      <th>place_geoid</th>\n",
       "      <th>city_cat</th>\n",
       "    </tr>\n",
       "  </thead>\n",
       "  <tbody>\n",
       "    <tr>\n",
       "      <th>32109</th>\n",
       "      <td>32109</td>\n",
       "      <td>Lost Springs town, Wyoming</td>\n",
       "      <td>1.0</td>\n",
       "      <td>100.0</td>\n",
       "      <td>56</td>\n",
       "      <td>47805</td>\n",
       "      <td>0.0</td>\n",
       "      <td>5647805</td>\n",
       "      <td>town/rural</td>\n",
       "    </tr>\n",
       "    <tr>\n",
       "      <th>22705</th>\n",
       "      <td>22705</td>\n",
       "      <td>Shamrock town, Oklahoma</td>\n",
       "      <td>2.0</td>\n",
       "      <td>100.0</td>\n",
       "      <td>40</td>\n",
       "      <td>66600</td>\n",
       "      <td>100.0</td>\n",
       "      <td>4066600</td>\n",
       "      <td>town/rural</td>\n",
       "    </tr>\n",
       "    <tr>\n",
       "      <th>4867</th>\n",
       "      <td>4867</td>\n",
       "      <td>Weeki Wachee city, Florida</td>\n",
       "      <td>2.0</td>\n",
       "      <td>100.0</td>\n",
       "      <td>12</td>\n",
       "      <td>75625</td>\n",
       "      <td>0.0</td>\n",
       "      <td>1275625</td>\n",
       "      <td>town/rural</td>\n",
       "    </tr>\n",
       "    <tr>\n",
       "      <th>13923</th>\n",
       "      <td>13923</td>\n",
       "      <td>The Ranch CDP, Minnesota</td>\n",
       "      <td>2.0</td>\n",
       "      <td>0.0</td>\n",
       "      <td>27</td>\n",
       "      <td>64547</td>\n",
       "      <td>0.0</td>\n",
       "      <td>2764547</td>\n",
       "      <td>town/rural</td>\n",
       "    </tr>\n",
       "    <tr>\n",
       "      <th>26553</th>\n",
       "      <td>26553</td>\n",
       "      <td>Lily town, South Dakota</td>\n",
       "      <td>2.0</td>\n",
       "      <td>100.0</td>\n",
       "      <td>46</td>\n",
       "      <td>37140</td>\n",
       "      <td>0.0</td>\n",
       "      <td>4637140</td>\n",
       "      <td>town/rural</td>\n",
       "    </tr>\n",
       "  </tbody>\n",
       "</table>\n",
       "</div>"
      ],
      "text/plain": [
       "       Unnamed: 0                        name  pop  perc_white state_fips  \\\n",
       "32109       32109  Lost Springs town, Wyoming  1.0       100.0         56   \n",
       "22705       22705     Shamrock town, Oklahoma  2.0       100.0         40   \n",
       "4867         4867  Weeki Wachee city, Florida  2.0       100.0         12   \n",
       "13923       13923    The Ranch CDP, Minnesota  2.0         0.0         27   \n",
       "26553       26553     Lily town, South Dakota  2.0       100.0         46   \n",
       "\n",
       "      place_fips  perc_below_poverty place_geoid    city_cat  \n",
       "32109      47805                 0.0     5647805  town/rural  \n",
       "22705      66600               100.0     4066600  town/rural  \n",
       "4867       75625                 0.0     1275625  town/rural  \n",
       "13923      64547                 0.0     2764547  town/rural  \n",
       "26553      37140                 0.0     4637140  town/rural  "
      ]
     },
     "execution_count": 39,
     "metadata": {},
     "output_type": "execute_result"
    }
   ],
   "source": [
    "all_place_demo.sort_values('pop',ascending=True).head()"
   ]
  },
  {
   "cell_type": "code",
   "execution_count": 42,
   "metadata": {},
   "outputs": [],
   "source": [
    "xl_city_list = list(all_place_demo.loc[all_place_demo['city_cat'] == 'very large']['place_geoid'].unique())\n",
    "lg_city_list = list(all_place_demo.loc[all_place_demo['city_cat'] == 'large']['place_geoid'].unique())\n",
    "md_city_list = list(all_place_demo.loc[all_place_demo['city_cat'] == 'midsized']['place_geoid'].unique())\n",
    "sm_city_list = list(all_place_demo.loc[(all_place_demo['city_cat'] == 'small')&(all_place_demo['pop']>49999)]['place_geoid'].unique())\n",
    "town_rural_list = list(all_place_demo.loc[(all_place_demo['pop']<50000)]['place_geoid'].unique())\n",
    "#town_rural_noplace_list = town_rural_list+not_in_place_lis"
   ]
  },
  {
   "cell_type": "code",
   "execution_count": 43,
   "metadata": {},
   "outputs": [
    {
     "data": {
      "text/plain": [
       "756"
      ]
     },
     "execution_count": 43,
     "metadata": {},
     "output_type": "execute_result"
    }
   ],
   "source": [
    "len(sm_city_list)"
   ]
  },
  {
   "cell_type": "code",
   "execution_count": null,
   "metadata": {},
   "outputs": [],
   "source": [
    "with_diff.head()"
   ]
  },
  {
   "cell_type": "code",
   "execution_count": 44,
   "metadata": {},
   "outputs": [],
   "source": [
    "xl_city_data = in_place.loc[in_place['place_geoid'].isin(xl_city_list)]\n",
    "lg_city_data = in_place.loc[in_place['place_geoid'].isin(lg_city_list)]\n",
    "md_city_data = in_place.loc[in_place['place_geoid'].isin(md_city_list)]\n",
    "sm_city_data = in_place.loc[in_place['place_geoid'].isin(sm_city_list)]\n",
    "town_rural_data = in_place.loc[in_place['place_geoid'].isin(town_rural_list)]\n",
    "town_rural_noplace_data = with_diff.loc[(with_diff['place_geoid'].isin(town_rural_list))|(with_diff['tract_geoid'].isin(not_in_place_list))]"
   ]
  },
  {
   "cell_type": "code",
   "execution_count": 45,
   "metadata": {},
   "outputs": [
    {
     "name": "stdout",
     "output_type": "stream",
     "text": [
      "10 very large cities with 255777 blocks\n",
      "25 large cities with 254137 blocks\n",
      "51 midsized cities with 263314 blocks\n",
      "756 small cities with 1122743 blocks\n",
      "28471 towns and rural places with 2780395 blocks\n",
      "1058 blocks not in places\n"
     ]
    }
   ],
   "source": [
    "print(len(xl_city_list),'very large cities with',len(xl_city_data),'blocks')\n",
    "print(len(lg_city_list),'large cities with',len(lg_city_data),'blocks')\n",
    "print(len(md_city_list),'midsized cities with',len(md_city_data),'blocks')\n",
    "print(len(sm_city_list),'small cities with',len(sm_city_data),'blocks')\n",
    "print(len(town_rural_list),'towns and rural places with',len(town_rural_data),'blocks')\n",
    "print(len(not_in_place_list),'blocks not in places')"
   ]
  },
  {
   "cell_type": "code",
   "execution_count": 46,
   "metadata": {},
   "outputs": [
    {
     "name": "stdout",
     "output_type": "stream",
     "text": [
      "All blocks with diff: 30.495458728221326\n",
      "All blocks in places: 30.50621822133352\n",
      "All blocks in xl places: 35.80419873711413\n",
      "All blocks in lg places: 41.630968222530704\n",
      "All blocks in md places: 36.56200932685689\n",
      "All blocks in sm places: 27.953614721986145\n",
      "All blocks in town/rural places: 29.89849490565284\n"
     ]
    }
   ],
   "source": [
    "print('All blocks with diff:',with_diff.dmean_diff.mean())\n",
    "print('All blocks in places:',in_place.dmean_diff.mean())\n",
    "print('All blocks in xl places:',xl_city_data.dmean_diff.mean())\n",
    "print('All blocks in lg places:',lg_city_data.dmean_diff.mean())\n",
    "print('All blocks in md places:',md_city_data.dmean_diff.mean())\n",
    "print('All blocks in sm places:',sm_city_data.dmean_diff.mean())\n",
    "print('All blocks in town/rural places:',town_rural_data.dmean_diff.mean())"
   ]
  },
  {
   "cell_type": "markdown",
   "metadata": {},
   "source": [
    "The divide between advertised and observed speeds is worst in large cities very large and midsized cities also have higher than average rates."
   ]
  },
  {
   "cell_type": "markdown",
   "metadata": {},
   "source": [
    "### Cities with the worst diff"
   ]
  },
  {
   "cell_type": "code",
   "execution_count": 72,
   "metadata": {},
   "outputs": [
    {
     "data": {
      "text/html": [
       "<div>\n",
       "<style scoped>\n",
       "    .dataframe tbody tr th:only-of-type {\n",
       "        vertical-align: middle;\n",
       "    }\n",
       "\n",
       "    .dataframe tbody tr th {\n",
       "        vertical-align: top;\n",
       "    }\n",
       "\n",
       "    .dataframe thead th {\n",
       "        text-align: right;\n",
       "    }\n",
       "</style>\n",
       "<table border=\"1\" class=\"dataframe\">\n",
       "  <thead>\n",
       "    <tr style=\"text-align: right;\">\n",
       "      <th></th>\n",
       "      <th>STATEFP10</th>\n",
       "      <th>COUNTYFP10</th>\n",
       "      <th>TRACTCE10</th>\n",
       "      <th>BLOCKCE10</th>\n",
       "      <th>GEOID10</th>\n",
       "      <th>NAME10</th>\n",
       "      <th>MTFCC10</th>\n",
       "      <th>UR10</th>\n",
       "      <th>UACE10</th>\n",
       "      <th>UATYPE</th>\n",
       "      <th>FUNCSTAT10</th>\n",
       "      <th>ALAND10</th>\n",
       "      <th>AWATER10</th>\n",
       "      <th>INTPTLAT10</th>\n",
       "      <th>INTPTLON10</th>\n",
       "      <th>geometry</th>\n",
       "      <th>GEOID10_</th>\n",
       "      <th>quadkeyCNT</th>\n",
       "      <th>testSUM</th>\n",
       "      <th>deviceSUM</th>\n",
       "      <th>ook_dmax</th>\n",
       "      <th>ook_dmin</th>\n",
       "      <th>ook_dmean</th>\n",
       "      <th>ook_umax</th>\n",
       "      <th>ook_umin</th>\n",
       "      <th>ook_umean</th>\n",
       "      <th>block_cd</th>\n",
       "      <th>providers</th>\n",
       "      <th>provideCNT</th>\n",
       "      <th>fcc_dmax</th>\n",
       "      <th>fcc_dmin</th>\n",
       "      <th>fcc_dmean</th>\n",
       "      <th>fcc_umax</th>\n",
       "      <th>fcc_umin</th>\n",
       "      <th>fcc_umean</th>\n",
       "      <th>dmean_diff</th>\n",
       "      <th>umean_diff</th>\n",
       "      <th>blockGEOID</th>\n",
       "      <th>placefp</th>\n",
       "      <th>placenm</th>\n",
       "      <th>tract_geoid</th>\n",
       "      <th>place_geoid</th>\n",
       "    </tr>\n",
       "  </thead>\n",
       "  <tbody>\n",
       "    <tr>\n",
       "      <th>1</th>\n",
       "      <td>32</td>\n",
       "      <td>510</td>\n",
       "      <td>001002</td>\n",
       "      <td>1023</td>\n",
       "      <td>325100010021023</td>\n",
       "      <td>Block 1023</td>\n",
       "      <td>G5040</td>\n",
       "      <td>R</td>\n",
       "      <td>None</td>\n",
       "      <td>None</td>\n",
       "      <td>S</td>\n",
       "      <td>1212977</td>\n",
       "      <td>0</td>\n",
       "      <td>+39.2021077</td>\n",
       "      <td>-119.6795352</td>\n",
       "      <td>POLYGON ((-119.68771 39.20086, -119.68725 39.2...</td>\n",
       "      <td>325100010021023</td>\n",
       "      <td>1.0</td>\n",
       "      <td>15.0</td>\n",
       "      <td>4.0</td>\n",
       "      <td>51.602</td>\n",
       "      <td>51.602</td>\n",
       "      <td>51.6020</td>\n",
       "      <td>8.034</td>\n",
       "      <td>8.034</td>\n",
       "      <td>8.0340</td>\n",
       "      <td>325100010021023</td>\n",
       "      <td>SkyFiber InternetViasat IncAT&amp;T NevadaGCI Comm...</td>\n",
       "      <td>6.0</td>\n",
       "      <td>100.0</td>\n",
       "      <td>0.0</td>\n",
       "      <td>38.333333</td>\n",
       "      <td>100.0</td>\n",
       "      <td>0.0</td>\n",
       "      <td>17.947333</td>\n",
       "      <td>-13.268667</td>\n",
       "      <td>9.913333</td>\n",
       "      <td>325100010021023</td>\n",
       "      <td>9700</td>\n",
       "      <td>Carson City, NV</td>\n",
       "      <td>32510001002</td>\n",
       "      <td>3209700</td>\n",
       "    </tr>\n",
       "    <tr>\n",
       "      <th>3</th>\n",
       "      <td>32</td>\n",
       "      <td>510</td>\n",
       "      <td>001002</td>\n",
       "      <td>1161</td>\n",
       "      <td>325100010021161</td>\n",
       "      <td>Block 1161</td>\n",
       "      <td>G5040</td>\n",
       "      <td>R</td>\n",
       "      <td>None</td>\n",
       "      <td>None</td>\n",
       "      <td>S</td>\n",
       "      <td>20621</td>\n",
       "      <td>0</td>\n",
       "      <td>+39.1182172</td>\n",
       "      <td>-119.7064602</td>\n",
       "      <td>POLYGON ((-119.70752 39.11895, -119.70747 39.1...</td>\n",
       "      <td>325100010021161</td>\n",
       "      <td>1.0</td>\n",
       "      <td>1.0</td>\n",
       "      <td>1.0</td>\n",
       "      <td>34.299</td>\n",
       "      <td>34.299</td>\n",
       "      <td>34.2990</td>\n",
       "      <td>18.182</td>\n",
       "      <td>18.182</td>\n",
       "      <td>18.1820</td>\n",
       "      <td>325100010021161</td>\n",
       "      <td>Viasat IncGCI Communication Corp.HughesNetSkyc...</td>\n",
       "      <td>4.0</td>\n",
       "      <td>100.0</td>\n",
       "      <td>0.0</td>\n",
       "      <td>31.750000</td>\n",
       "      <td>3.0</td>\n",
       "      <td>0.0</td>\n",
       "      <td>1.825000</td>\n",
       "      <td>-2.549000</td>\n",
       "      <td>-16.357000</td>\n",
       "      <td>325100010021161</td>\n",
       "      <td>9700</td>\n",
       "      <td>Carson City, NV</td>\n",
       "      <td>32510001002</td>\n",
       "      <td>3209700</td>\n",
       "    </tr>\n",
       "    <tr>\n",
       "      <th>4</th>\n",
       "      <td>32</td>\n",
       "      <td>510</td>\n",
       "      <td>000100</td>\n",
       "      <td>2019</td>\n",
       "      <td>325100001002019</td>\n",
       "      <td>Block 2019</td>\n",
       "      <td>G5040</td>\n",
       "      <td>U</td>\n",
       "      <td>14158</td>\n",
       "      <td>U</td>\n",
       "      <td>S</td>\n",
       "      <td>17097</td>\n",
       "      <td>0</td>\n",
       "      <td>+39.1609354</td>\n",
       "      <td>-119.7735929</td>\n",
       "      <td>POLYGON ((-119.77477 39.16120, -119.77478 39.1...</td>\n",
       "      <td>325100001002019</td>\n",
       "      <td>2.0</td>\n",
       "      <td>47.0</td>\n",
       "      <td>21.0</td>\n",
       "      <td>146.523</td>\n",
       "      <td>71.958</td>\n",
       "      <td>109.2405</td>\n",
       "      <td>57.568</td>\n",
       "      <td>26.113</td>\n",
       "      <td>41.8405</td>\n",
       "      <td>325100001002019</td>\n",
       "      <td>Viasat IncCharter Communications IncAT&amp;T Nevad...</td>\n",
       "      <td>6.0</td>\n",
       "      <td>1000.0</td>\n",
       "      <td>0.0</td>\n",
       "      <td>240.666667</td>\n",
       "      <td>1000.0</td>\n",
       "      <td>0.0</td>\n",
       "      <td>118.175556</td>\n",
       "      <td>131.426167</td>\n",
       "      <td>76.335056</td>\n",
       "      <td>325100001002019</td>\n",
       "      <td>9700</td>\n",
       "      <td>Carson City, NV</td>\n",
       "      <td>32510000100</td>\n",
       "      <td>3209700</td>\n",
       "    </tr>\n",
       "    <tr>\n",
       "      <th>5</th>\n",
       "      <td>32</td>\n",
       "      <td>510</td>\n",
       "      <td>000600</td>\n",
       "      <td>4042</td>\n",
       "      <td>325100006004042</td>\n",
       "      <td>Block 4042</td>\n",
       "      <td>G5040</td>\n",
       "      <td>U</td>\n",
       "      <td>14158</td>\n",
       "      <td>U</td>\n",
       "      <td>S</td>\n",
       "      <td>8705</td>\n",
       "      <td>0</td>\n",
       "      <td>+39.1511273</td>\n",
       "      <td>-119.7532795</td>\n",
       "      <td>POLYGON ((-119.75418 39.15129, -119.75392 39.1...</td>\n",
       "      <td>325100006004042</td>\n",
       "      <td>2.0</td>\n",
       "      <td>119.0</td>\n",
       "      <td>24.0</td>\n",
       "      <td>144.443</td>\n",
       "      <td>107.574</td>\n",
       "      <td>126.0085</td>\n",
       "      <td>16.333</td>\n",
       "      <td>12.154</td>\n",
       "      <td>14.2435</td>\n",
       "      <td>325100006004042</td>\n",
       "      <td>Viasat IncCharter Communications IncAT&amp;T Nevad...</td>\n",
       "      <td>6.0</td>\n",
       "      <td>940.0</td>\n",
       "      <td>0.0</td>\n",
       "      <td>178.833333</td>\n",
       "      <td>35.0</td>\n",
       "      <td>0.0</td>\n",
       "      <td>7.135333</td>\n",
       "      <td>52.824833</td>\n",
       "      <td>-7.108167</td>\n",
       "      <td>325100006004042</td>\n",
       "      <td>9700</td>\n",
       "      <td>Carson City, NV</td>\n",
       "      <td>32510000600</td>\n",
       "      <td>3209700</td>\n",
       "    </tr>\n",
       "    <tr>\n",
       "      <th>6</th>\n",
       "      <td>32</td>\n",
       "      <td>510</td>\n",
       "      <td>000600</td>\n",
       "      <td>3003</td>\n",
       "      <td>325100006003003</td>\n",
       "      <td>Block 3003</td>\n",
       "      <td>G5040</td>\n",
       "      <td>U</td>\n",
       "      <td>14158</td>\n",
       "      <td>U</td>\n",
       "      <td>S</td>\n",
       "      <td>18408</td>\n",
       "      <td>0</td>\n",
       "      <td>+39.1530850</td>\n",
       "      <td>-119.7488440</td>\n",
       "      <td>POLYGON ((-119.74994 39.15340, -119.74902 39.1...</td>\n",
       "      <td>325100006003003</td>\n",
       "      <td>1.0</td>\n",
       "      <td>1.0</td>\n",
       "      <td>1.0</td>\n",
       "      <td>457.714</td>\n",
       "      <td>457.714</td>\n",
       "      <td>457.7140</td>\n",
       "      <td>19.795</td>\n",
       "      <td>19.795</td>\n",
       "      <td>19.7950</td>\n",
       "      <td>325100006003003</td>\n",
       "      <td>Viasat IncCharter Communications IncAT&amp;T Nevad...</td>\n",
       "      <td>6.0</td>\n",
       "      <td>940.0</td>\n",
       "      <td>0.0</td>\n",
       "      <td>139.500000</td>\n",
       "      <td>35.0</td>\n",
       "      <td>0.0</td>\n",
       "      <td>6.072500</td>\n",
       "      <td>-318.214000</td>\n",
       "      <td>-13.722500</td>\n",
       "      <td>325100006003003</td>\n",
       "      <td>9700</td>\n",
       "      <td>Carson City, NV</td>\n",
       "      <td>32510000600</td>\n",
       "      <td>3209700</td>\n",
       "    </tr>\n",
       "  </tbody>\n",
       "</table>\n",
       "</div>"
      ],
      "text/plain": [
       "  STATEFP10 COUNTYFP10 TRACTCE10 BLOCKCE10          GEOID10      NAME10  \\\n",
       "1        32        510    001002      1023  325100010021023  Block 1023   \n",
       "3        32        510    001002      1161  325100010021161  Block 1161   \n",
       "4        32        510    000100      2019  325100001002019  Block 2019   \n",
       "5        32        510    000600      4042  325100006004042  Block 4042   \n",
       "6        32        510    000600      3003  325100006003003  Block 3003   \n",
       "\n",
       "  MTFCC10 UR10 UACE10 UATYPE FUNCSTAT10  ALAND10  AWATER10   INTPTLAT10  \\\n",
       "1   G5040    R   None   None          S  1212977         0  +39.2021077   \n",
       "3   G5040    R   None   None          S    20621         0  +39.1182172   \n",
       "4   G5040    U  14158      U          S    17097         0  +39.1609354   \n",
       "5   G5040    U  14158      U          S     8705         0  +39.1511273   \n",
       "6   G5040    U  14158      U          S    18408         0  +39.1530850   \n",
       "\n",
       "     INTPTLON10                                           geometry  \\\n",
       "1  -119.6795352  POLYGON ((-119.68771 39.20086, -119.68725 39.2...   \n",
       "3  -119.7064602  POLYGON ((-119.70752 39.11895, -119.70747 39.1...   \n",
       "4  -119.7735929  POLYGON ((-119.77477 39.16120, -119.77478 39.1...   \n",
       "5  -119.7532795  POLYGON ((-119.75418 39.15129, -119.75392 39.1...   \n",
       "6  -119.7488440  POLYGON ((-119.74994 39.15340, -119.74902 39.1...   \n",
       "\n",
       "          GEOID10_  quadkeyCNT  testSUM  deviceSUM  ook_dmax  ook_dmin  \\\n",
       "1  325100010021023         1.0     15.0        4.0    51.602    51.602   \n",
       "3  325100010021161         1.0      1.0        1.0    34.299    34.299   \n",
       "4  325100001002019         2.0     47.0       21.0   146.523    71.958   \n",
       "5  325100006004042         2.0    119.0       24.0   144.443   107.574   \n",
       "6  325100006003003         1.0      1.0        1.0   457.714   457.714   \n",
       "\n",
       "   ook_dmean  ook_umax  ook_umin  ook_umean         block_cd  \\\n",
       "1    51.6020     8.034     8.034     8.0340  325100010021023   \n",
       "3    34.2990    18.182    18.182    18.1820  325100010021161   \n",
       "4   109.2405    57.568    26.113    41.8405  325100001002019   \n",
       "5   126.0085    16.333    12.154    14.2435  325100006004042   \n",
       "6   457.7140    19.795    19.795    19.7950  325100006003003   \n",
       "\n",
       "                                           providers  provideCNT  fcc_dmax  \\\n",
       "1  SkyFiber InternetViasat IncAT&T NevadaGCI Comm...         6.0     100.0   \n",
       "3  Viasat IncGCI Communication Corp.HughesNetSkyc...         4.0     100.0   \n",
       "4  Viasat IncCharter Communications IncAT&T Nevad...         6.0    1000.0   \n",
       "5  Viasat IncCharter Communications IncAT&T Nevad...         6.0     940.0   \n",
       "6  Viasat IncCharter Communications IncAT&T Nevad...         6.0     940.0   \n",
       "\n",
       "   fcc_dmin   fcc_dmean  fcc_umax  fcc_umin   fcc_umean  dmean_diff  \\\n",
       "1       0.0   38.333333     100.0       0.0   17.947333  -13.268667   \n",
       "3       0.0   31.750000       3.0       0.0    1.825000   -2.549000   \n",
       "4       0.0  240.666667    1000.0       0.0  118.175556  131.426167   \n",
       "5       0.0  178.833333      35.0       0.0    7.135333   52.824833   \n",
       "6       0.0  139.500000      35.0       0.0    6.072500 -318.214000   \n",
       "\n",
       "   umean_diff       blockGEOID placefp          placenm  tract_geoid  \\\n",
       "1    9.913333  325100010021023    9700  Carson City, NV  32510001002   \n",
       "3  -16.357000  325100010021161    9700  Carson City, NV  32510001002   \n",
       "4   76.335056  325100001002019    9700  Carson City, NV  32510000100   \n",
       "5   -7.108167  325100006004042    9700  Carson City, NV  32510000600   \n",
       "6  -13.722500  325100006003003    9700  Carson City, NV  32510000600   \n",
       "\n",
       "  place_geoid  \n",
       "1     3209700  \n",
       "3     3209700  \n",
       "4     3209700  \n",
       "5     3209700  \n",
       "6     3209700  "
      ]
     },
     "execution_count": 72,
     "metadata": {},
     "output_type": "execute_result"
    }
   ],
   "source": [
    "in_place.head()"
   ]
  },
  {
   "cell_type": "code",
   "execution_count": 79,
   "metadata": {},
   "outputs": [],
   "source": [
    "by_city = in_place.groupby(['place_geoid','placenm']).agg({'dmean_diff':'mean','fcc_dmean':'mean','ook_dmean':'mean','testSUM':'sum','deviceSUM':'sum'}).reset_index()\n",
    "by_city = by_city.merge(all_place_demo[['place_geoid','pop','perc_white','perc_below_poverty','city_cat']],on='place_geoid', how='left')"
   ]
  },
  {
   "cell_type": "code",
   "execution_count": 80,
   "metadata": {},
   "outputs": [
    {
     "data": {
      "text/html": [
       "<div>\n",
       "<style scoped>\n",
       "    .dataframe tbody tr th:only-of-type {\n",
       "        vertical-align: middle;\n",
       "    }\n",
       "\n",
       "    .dataframe tbody tr th {\n",
       "        vertical-align: top;\n",
       "    }\n",
       "\n",
       "    .dataframe thead th {\n",
       "        text-align: right;\n",
       "    }\n",
       "</style>\n",
       "<table border=\"1\" class=\"dataframe\">\n",
       "  <thead>\n",
       "    <tr style=\"text-align: right;\">\n",
       "      <th></th>\n",
       "      <th>place_geoid</th>\n",
       "      <th>placenm</th>\n",
       "      <th>dmean_diff</th>\n",
       "      <th>fcc_dmean</th>\n",
       "      <th>ook_dmean</th>\n",
       "      <th>testSUM</th>\n",
       "      <th>deviceSUM</th>\n",
       "      <th>pop</th>\n",
       "      <th>perc_white</th>\n",
       "      <th>perc_below_poverty</th>\n",
       "      <th>city_cat</th>\n",
       "    </tr>\n",
       "  </thead>\n",
       "  <tbody>\n",
       "    <tr>\n",
       "      <th>4910</th>\n",
       "      <td>1360004</td>\n",
       "      <td>Pembroke city, GA</td>\n",
       "      <td>345.757505</td>\n",
       "      <td>420.378167</td>\n",
       "      <td>74.620662</td>\n",
       "      <td>1534.0</td>\n",
       "      <td>575.0</td>\n",
       "      <td>2481.0</td>\n",
       "      <td>63.4</td>\n",
       "      <td>19.4</td>\n",
       "      <td>town/rural</td>\n",
       "    </tr>\n",
       "    <tr>\n",
       "      <th>11028</th>\n",
       "      <td>2681680</td>\n",
       "      <td>Vandalia village, MI</td>\n",
       "      <td>335.640060</td>\n",
       "      <td>374.836310</td>\n",
       "      <td>39.196250</td>\n",
       "      <td>7.0</td>\n",
       "      <td>7.0</td>\n",
       "      <td>381.0</td>\n",
       "      <td>53.5</td>\n",
       "      <td>20.4</td>\n",
       "      <td>town/rural</td>\n",
       "    </tr>\n",
       "    <tr>\n",
       "      <th>4572</th>\n",
       "      <td>1311000</td>\n",
       "      <td>Brooklet city, GA</td>\n",
       "      <td>324.245889</td>\n",
       "      <td>428.091808</td>\n",
       "      <td>103.845919</td>\n",
       "      <td>715.0</td>\n",
       "      <td>280.0</td>\n",
       "      <td>1667.0</td>\n",
       "      <td>90.6</td>\n",
       "      <td>10.5</td>\n",
       "      <td>town/rural</td>\n",
       "    </tr>\n",
       "    <tr>\n",
       "      <th>16875</th>\n",
       "      <td>3825300</td>\n",
       "      <td>Fairmount city, ND</td>\n",
       "      <td>317.977638</td>\n",
       "      <td>337.959420</td>\n",
       "      <td>19.981783</td>\n",
       "      <td>61.0</td>\n",
       "      <td>28.0</td>\n",
       "      <td>321.0</td>\n",
       "      <td>96.6</td>\n",
       "      <td>12.9</td>\n",
       "      <td>town/rural</td>\n",
       "    </tr>\n",
       "    <tr>\n",
       "      <th>11538</th>\n",
       "      <td>2739986</td>\n",
       "      <td>Mantorville city, MN</td>\n",
       "      <td>312.350849</td>\n",
       "      <td>371.085401</td>\n",
       "      <td>58.734551</td>\n",
       "      <td>831.0</td>\n",
       "      <td>333.0</td>\n",
       "      <td>1015.0</td>\n",
       "      <td>93.9</td>\n",
       "      <td>5.8</td>\n",
       "      <td>town/rural</td>\n",
       "    </tr>\n",
       "  </tbody>\n",
       "</table>\n",
       "</div>"
      ],
      "text/plain": [
       "      place_geoid               placenm  dmean_diff   fcc_dmean   ook_dmean  \\\n",
       "4910      1360004     Pembroke city, GA  345.757505  420.378167   74.620662   \n",
       "11028     2681680  Vandalia village, MI  335.640060  374.836310   39.196250   \n",
       "4572      1311000     Brooklet city, GA  324.245889  428.091808  103.845919   \n",
       "16875     3825300    Fairmount city, ND  317.977638  337.959420   19.981783   \n",
       "11538     2739986  Mantorville city, MN  312.350849  371.085401   58.734551   \n",
       "\n",
       "       testSUM  deviceSUM     pop  perc_white  perc_below_poverty    city_cat  \n",
       "4910    1534.0      575.0  2481.0        63.4                19.4  town/rural  \n",
       "11028      7.0        7.0   381.0        53.5                20.4  town/rural  \n",
       "4572     715.0      280.0  1667.0        90.6                10.5  town/rural  \n",
       "16875     61.0       28.0   321.0        96.6                12.9  town/rural  \n",
       "11538    831.0      333.0  1015.0        93.9                 5.8  town/rural  "
      ]
     },
     "execution_count": 80,
     "metadata": {},
     "output_type": "execute_result"
    }
   ],
   "source": [
    "by_city.sort_values('dmean_diff',ascending=False).head()"
   ]
  },
  {
   "cell_type": "code",
   "execution_count": 48,
   "metadata": {},
   "outputs": [
    {
     "data": {
      "text/html": [
       "<div>\n",
       "<style scoped>\n",
       "    .dataframe tbody tr th:only-of-type {\n",
       "        vertical-align: middle;\n",
       "    }\n",
       "\n",
       "    .dataframe tbody tr th {\n",
       "        vertical-align: top;\n",
       "    }\n",
       "\n",
       "    .dataframe thead th {\n",
       "        text-align: right;\n",
       "    }\n",
       "</style>\n",
       "<table border=\"1\" class=\"dataframe\">\n",
       "  <thead>\n",
       "    <tr style=\"text-align: right;\">\n",
       "      <th></th>\n",
       "      <th>place_geoid</th>\n",
       "      <th>placenm</th>\n",
       "      <th>dmean_diff</th>\n",
       "      <th>testSUM</th>\n",
       "      <th>deviceSUM</th>\n",
       "      <th>pop</th>\n",
       "      <th>perc_white</th>\n",
       "      <th>perc_below_poverty</th>\n",
       "      <th>city_cat</th>\n",
       "    </tr>\n",
       "  </thead>\n",
       "  <tbody>\n",
       "    <tr>\n",
       "      <th>312</th>\n",
       "      <td>0151000</td>\n",
       "      <td>Montgomery city, AL</td>\n",
       "      <td>219.030893</td>\n",
       "      <td>121083.0</td>\n",
       "      <td>41202.0</td>\n",
       "      <td>199783.0</td>\n",
       "      <td>32.6</td>\n",
       "      <td>20.6</td>\n",
       "      <td>small</td>\n",
       "    </tr>\n",
       "    <tr>\n",
       "      <th>21736</th>\n",
       "      <td>4739560</td>\n",
       "      <td>Kingsport city, TN</td>\n",
       "      <td>207.605025</td>\n",
       "      <td>40403.0</td>\n",
       "      <td>14581.0</td>\n",
       "      <td>53376.0</td>\n",
       "      <td>91.2</td>\n",
       "      <td>18.9</td>\n",
       "      <td>small</td>\n",
       "    </tr>\n",
       "    <tr>\n",
       "      <th>13871</th>\n",
       "      <td>3271400</td>\n",
       "      <td>Sunrise Manor CDP, NV</td>\n",
       "      <td>184.233880</td>\n",
       "      <td>124148.0</td>\n",
       "      <td>37742.0</td>\n",
       "      <td>193781.0</td>\n",
       "      <td>52.1</td>\n",
       "      <td>21.4</td>\n",
       "      <td>small</td>\n",
       "    </tr>\n",
       "    <tr>\n",
       "      <th>4623</th>\n",
       "      <td>1319000</td>\n",
       "      <td>Columbus city, GA</td>\n",
       "      <td>183.128359</td>\n",
       "      <td>125748.0</td>\n",
       "      <td>39370.0</td>\n",
       "      <td>195739.0</td>\n",
       "      <td>43.3</td>\n",
       "      <td>20.7</td>\n",
       "      <td>small</td>\n",
       "    </tr>\n",
       "    <tr>\n",
       "      <th>25</th>\n",
       "      <td>0103076</td>\n",
       "      <td>Auburn city, AL</td>\n",
       "      <td>173.987223</td>\n",
       "      <td>41264.0</td>\n",
       "      <td>14040.0</td>\n",
       "      <td>64054.0</td>\n",
       "      <td>71.2</td>\n",
       "      <td>27.3</td>\n",
       "      <td>small</td>\n",
       "    </tr>\n",
       "    <tr>\n",
       "      <th>6891</th>\n",
       "      <td>1822000</td>\n",
       "      <td>Evansville city, IN</td>\n",
       "      <td>169.448836</td>\n",
       "      <td>109258.0</td>\n",
       "      <td>39908.0</td>\n",
       "      <td>118588.0</td>\n",
       "      <td>80.6</td>\n",
       "      <td>21.8</td>\n",
       "      <td>small</td>\n",
       "    </tr>\n",
       "  </tbody>\n",
       "</table>\n",
       "</div>"
      ],
      "text/plain": [
       "      place_geoid                placenm  dmean_diff   testSUM  deviceSUM  \\\n",
       "312       0151000    Montgomery city, AL  219.030893  121083.0    41202.0   \n",
       "21736     4739560     Kingsport city, TN  207.605025   40403.0    14581.0   \n",
       "13871     3271400  Sunrise Manor CDP, NV  184.233880  124148.0    37742.0   \n",
       "4623      1319000      Columbus city, GA  183.128359  125748.0    39370.0   \n",
       "25        0103076        Auburn city, AL  173.987223   41264.0    14040.0   \n",
       "6891      1822000    Evansville city, IN  169.448836  109258.0    39908.0   \n",
       "\n",
       "            pop  perc_white  perc_below_poverty city_cat  \n",
       "312    199783.0        32.6                20.6    small  \n",
       "21736   53376.0        91.2                18.9    small  \n",
       "13871  193781.0        52.1                21.4    small  \n",
       "4623   195739.0        43.3                20.7    small  \n",
       "25      64054.0        71.2                27.3    small  \n",
       "6891   118588.0        80.6                21.8    small  "
      ]
     },
     "execution_count": 48,
     "metadata": {},
     "output_type": "execute_result"
    }
   ],
   "source": [
    "by_city.loc[by_city['place_geoid'].isin(sm_city_list)].sort_values('dmean_diff',ascending=False).head(6)"
   ]
  },
  {
   "cell_type": "code",
   "execution_count": 50,
   "metadata": {},
   "outputs": [
    {
     "data": {
      "text/html": [
       "<div>\n",
       "<style scoped>\n",
       "    .dataframe tbody tr th:only-of-type {\n",
       "        vertical-align: middle;\n",
       "    }\n",
       "\n",
       "    .dataframe tbody tr th {\n",
       "        vertical-align: top;\n",
       "    }\n",
       "\n",
       "    .dataframe thead th {\n",
       "        text-align: right;\n",
       "    }\n",
       "</style>\n",
       "<table border=\"1\" class=\"dataframe\">\n",
       "  <thead>\n",
       "    <tr style=\"text-align: right;\">\n",
       "      <th></th>\n",
       "      <th>place_geoid</th>\n",
       "      <th>placenm</th>\n",
       "      <th>dmean_diff</th>\n",
       "      <th>testSUM</th>\n",
       "      <th>deviceSUM</th>\n",
       "      <th>pop</th>\n",
       "      <th>perc_white</th>\n",
       "      <th>perc_below_poverty</th>\n",
       "      <th>city_cat</th>\n",
       "    </tr>\n",
       "  </thead>\n",
       "  <tbody>\n",
       "    <tr>\n",
       "      <th>13825</th>\n",
       "      <td>3231900</td>\n",
       "      <td>Henderson city, NV</td>\n",
       "      <td>168.426671</td>\n",
       "      <td>427771.0</td>\n",
       "      <td>118090.0</td>\n",
       "      <td>300116.0</td>\n",
       "      <td>75.5</td>\n",
       "      <td>7.9</td>\n",
       "      <td>midsized</td>\n",
       "    </tr>\n",
       "    <tr>\n",
       "      <th>4306</th>\n",
       "      <td>1263000</td>\n",
       "      <td>St. Petersburg city, FL</td>\n",
       "      <td>159.289561</td>\n",
       "      <td>538532.0</td>\n",
       "      <td>165950.0</td>\n",
       "      <td>261338.0</td>\n",
       "      <td>69.5</td>\n",
       "      <td>13.4</td>\n",
       "      <td>midsized</td>\n",
       "    </tr>\n",
       "    <tr>\n",
       "      <th>11568</th>\n",
       "      <td>2743000</td>\n",
       "      <td>Minneapolis city, MN</td>\n",
       "      <td>141.912032</td>\n",
       "      <td>515155.0</td>\n",
       "      <td>162616.0</td>\n",
       "      <td>420324.0</td>\n",
       "      <td>63.6</td>\n",
       "      <td>19.1</td>\n",
       "      <td>midsized</td>\n",
       "    </tr>\n",
       "    <tr>\n",
       "      <th>8864</th>\n",
       "      <td>2146027</td>\n",
       "      <td>Lexington-Fayette urban county, KY</td>\n",
       "      <td>120.091637</td>\n",
       "      <td>488968.0</td>\n",
       "      <td>138994.0</td>\n",
       "      <td>320601.0</td>\n",
       "      <td>74.9</td>\n",
       "      <td>16.8</td>\n",
       "      <td>midsized</td>\n",
       "    </tr>\n",
       "    <tr>\n",
       "      <th>20405</th>\n",
       "      <td>4261000</td>\n",
       "      <td>Pittsburgh city, PA</td>\n",
       "      <td>117.865762</td>\n",
       "      <td>324869.0</td>\n",
       "      <td>114355.0</td>\n",
       "      <td>302205.0</td>\n",
       "      <td>66.8</td>\n",
       "      <td>20.5</td>\n",
       "      <td>midsized</td>\n",
       "    </tr>\n",
       "    <tr>\n",
       "      <th>22269</th>\n",
       "      <td>4817000</td>\n",
       "      <td>Corpus Christi city, TX</td>\n",
       "      <td>117.045210</td>\n",
       "      <td>338706.0</td>\n",
       "      <td>104029.0</td>\n",
       "      <td>325780.0</td>\n",
       "      <td>89.6</td>\n",
       "      <td>16.1</td>\n",
       "      <td>midsized</td>\n",
       "    </tr>\n",
       "  </tbody>\n",
       "</table>\n",
       "</div>"
      ],
      "text/plain": [
       "      place_geoid                             placenm  dmean_diff   testSUM  \\\n",
       "13825     3231900                  Henderson city, NV  168.426671  427771.0   \n",
       "4306      1263000             St. Petersburg city, FL  159.289561  538532.0   \n",
       "11568     2743000                Minneapolis city, MN  141.912032  515155.0   \n",
       "8864      2146027  Lexington-Fayette urban county, KY  120.091637  488968.0   \n",
       "20405     4261000                 Pittsburgh city, PA  117.865762  324869.0   \n",
       "22269     4817000             Corpus Christi city, TX  117.045210  338706.0   \n",
       "\n",
       "       deviceSUM       pop  perc_white  perc_below_poverty  city_cat  \n",
       "13825   118090.0  300116.0        75.5                 7.9  midsized  \n",
       "4306    165950.0  261338.0        69.5                13.4  midsized  \n",
       "11568   162616.0  420324.0        63.6                19.1  midsized  \n",
       "8864    138994.0  320601.0        74.9                16.8  midsized  \n",
       "20405   114355.0  302205.0        66.8                20.5  midsized  \n",
       "22269   104029.0  325780.0        89.6                16.1  midsized  "
      ]
     },
     "execution_count": 50,
     "metadata": {},
     "output_type": "execute_result"
    }
   ],
   "source": [
    "by_city.loc[by_city['city_cat'] == 'midsized'].sort_values('dmean_diff',ascending=False).head(6)"
   ]
  },
  {
   "cell_type": "code",
   "execution_count": 51,
   "metadata": {},
   "outputs": [
    {
     "data": {
      "text/html": [
       "<div>\n",
       "<style scoped>\n",
       "    .dataframe tbody tr th:only-of-type {\n",
       "        vertical-align: middle;\n",
       "    }\n",
       "\n",
       "    .dataframe tbody tr th {\n",
       "        vertical-align: top;\n",
       "    }\n",
       "\n",
       "    .dataframe thead th {\n",
       "        text-align: right;\n",
       "    }\n",
       "</style>\n",
       "<table border=\"1\" class=\"dataframe\">\n",
       "  <thead>\n",
       "    <tr style=\"text-align: right;\">\n",
       "      <th></th>\n",
       "      <th>place_geoid</th>\n",
       "      <th>placenm</th>\n",
       "      <th>dmean_diff</th>\n",
       "      <th>testSUM</th>\n",
       "      <th>deviceSUM</th>\n",
       "      <th>pop</th>\n",
       "      <th>perc_white</th>\n",
       "      <th>perc_below_poverty</th>\n",
       "      <th>city_cat</th>\n",
       "    </tr>\n",
       "  </thead>\n",
       "  <tbody>\n",
       "    <tr>\n",
       "      <th>13833</th>\n",
       "      <td>3240000</td>\n",
       "      <td>Las Vegas city, NV</td>\n",
       "      <td>164.787711</td>\n",
       "      <td>700642.0</td>\n",
       "      <td>204552.0</td>\n",
       "      <td>634773.0</td>\n",
       "      <td>61.9</td>\n",
       "      <td>15.3</td>\n",
       "      <td>large</td>\n",
       "    </tr>\n",
       "    <tr>\n",
       "      <th>17310</th>\n",
       "      <td>3918000</td>\n",
       "      <td>Columbus city, OH</td>\n",
       "      <td>105.336227</td>\n",
       "      <td>1058491.0</td>\n",
       "      <td>327839.0</td>\n",
       "      <td>878553.0</td>\n",
       "      <td>58.6</td>\n",
       "      <td>19.5</td>\n",
       "      <td>large</td>\n",
       "    </tr>\n",
       "    <tr>\n",
       "      <th>3601</th>\n",
       "      <td>1150000</td>\n",
       "      <td>Washington city, DC</td>\n",
       "      <td>91.420061</td>\n",
       "      <td>805240.0</td>\n",
       "      <td>252280.0</td>\n",
       "      <td>692683.0</td>\n",
       "      <td>41.3</td>\n",
       "      <td>16.2</td>\n",
       "      <td>large</td>\n",
       "    </tr>\n",
       "    <tr>\n",
       "      <th>19111</th>\n",
       "      <td>4159000</td>\n",
       "      <td>Portland city, OR</td>\n",
       "      <td>88.567536</td>\n",
       "      <td>1035630.0</td>\n",
       "      <td>345366.0</td>\n",
       "      <td>645291.0</td>\n",
       "      <td>77.4</td>\n",
       "      <td>13.7</td>\n",
       "      <td>large</td>\n",
       "    </tr>\n",
       "    <tr>\n",
       "      <th>25076</th>\n",
       "      <td>5363000</td>\n",
       "      <td>Seattle city, WA</td>\n",
       "      <td>79.744707</td>\n",
       "      <td>1544555.0</td>\n",
       "      <td>487977.0</td>\n",
       "      <td>724305.0</td>\n",
       "      <td>67.3</td>\n",
       "      <td>11.0</td>\n",
       "      <td>large</td>\n",
       "    </tr>\n",
       "  </tbody>\n",
       "</table>\n",
       "</div>"
      ],
      "text/plain": [
       "      place_geoid              placenm  dmean_diff    testSUM  deviceSUM  \\\n",
       "13833     3240000   Las Vegas city, NV  164.787711   700642.0   204552.0   \n",
       "17310     3918000    Columbus city, OH  105.336227  1058491.0   327839.0   \n",
       "3601      1150000  Washington city, DC   91.420061   805240.0   252280.0   \n",
       "19111     4159000    Portland city, OR   88.567536  1035630.0   345366.0   \n",
       "25076     5363000     Seattle city, WA   79.744707  1544555.0   487977.0   \n",
       "\n",
       "            pop  perc_white  perc_below_poverty city_cat  \n",
       "13833  634773.0        61.9                15.3    large  \n",
       "17310  878553.0        58.6                19.5    large  \n",
       "3601   692683.0        41.3                16.2    large  \n",
       "19111  645291.0        77.4                13.7    large  \n",
       "25076  724305.0        67.3                11.0    large  "
      ]
     },
     "execution_count": 51,
     "metadata": {},
     "output_type": "execute_result"
    }
   ],
   "source": [
    "by_city.loc[by_city['city_cat'] == 'large'].sort_values('dmean_diff',ascending=False).head()"
   ]
  },
  {
   "cell_type": "code",
   "execution_count": 52,
   "metadata": {},
   "outputs": [
    {
     "data": {
      "text/html": [
       "<div>\n",
       "<style scoped>\n",
       "    .dataframe tbody tr th:only-of-type {\n",
       "        vertical-align: middle;\n",
       "    }\n",
       "\n",
       "    .dataframe tbody tr th {\n",
       "        vertical-align: top;\n",
       "    }\n",
       "\n",
       "    .dataframe thead th {\n",
       "        text-align: right;\n",
       "    }\n",
       "</style>\n",
       "<table border=\"1\" class=\"dataframe\">\n",
       "  <thead>\n",
       "    <tr style=\"text-align: right;\">\n",
       "      <th></th>\n",
       "      <th>place_geoid</th>\n",
       "      <th>placenm</th>\n",
       "      <th>dmean_diff</th>\n",
       "      <th>testSUM</th>\n",
       "      <th>deviceSUM</th>\n",
       "      <th>pop</th>\n",
       "      <th>perc_white</th>\n",
       "      <th>perc_below_poverty</th>\n",
       "      <th>city_cat</th>\n",
       "    </tr>\n",
       "  </thead>\n",
       "  <tbody>\n",
       "    <tr>\n",
       "      <th>15608</th>\n",
       "      <td>3651000</td>\n",
       "      <td>New York city, NY</td>\n",
       "      <td>78.697976</td>\n",
       "      <td>14683491.0</td>\n",
       "      <td>4229682.0</td>\n",
       "      <td>8419316.0</td>\n",
       "      <td>42.7</td>\n",
       "      <td>17.9</td>\n",
       "      <td>very large</td>\n",
       "    </tr>\n",
       "    <tr>\n",
       "      <th>20394</th>\n",
       "      <td>4260000</td>\n",
       "      <td>Philadelphia city, PA</td>\n",
       "      <td>77.871479</td>\n",
       "      <td>1758046.0</td>\n",
       "      <td>553399.0</td>\n",
       "      <td>1579075.0</td>\n",
       "      <td>40.7</td>\n",
       "      <td>24.3</td>\n",
       "      <td>very large</td>\n",
       "    </tr>\n",
       "    <tr>\n",
       "      <th>926</th>\n",
       "      <td>0455000</td>\n",
       "      <td>Phoenix city, AZ</td>\n",
       "      <td>50.535926</td>\n",
       "      <td>1549011.0</td>\n",
       "      <td>463279.0</td>\n",
       "      <td>1633017.0</td>\n",
       "      <td>72.9</td>\n",
       "      <td>18.0</td>\n",
       "      <td>very large</td>\n",
       "    </tr>\n",
       "    <tr>\n",
       "      <th>5653</th>\n",
       "      <td>1714000</td>\n",
       "      <td>Chicago city, IL</td>\n",
       "      <td>47.572107</td>\n",
       "      <td>5943561.0</td>\n",
       "      <td>1698651.0</td>\n",
       "      <td>2709534.0</td>\n",
       "      <td>50.0</td>\n",
       "      <td>18.4</td>\n",
       "      <td>very large</td>\n",
       "    </tr>\n",
       "    <tr>\n",
       "      <th>23262</th>\n",
       "      <td>4865000</td>\n",
       "      <td>San Antonio city, TX</td>\n",
       "      <td>41.527397</td>\n",
       "      <td>1536583.0</td>\n",
       "      <td>534811.0</td>\n",
       "      <td>1508083.0</td>\n",
       "      <td>80.3</td>\n",
       "      <td>17.8</td>\n",
       "      <td>very large</td>\n",
       "    </tr>\n",
       "  </tbody>\n",
       "</table>\n",
       "</div>"
      ],
      "text/plain": [
       "      place_geoid                placenm  dmean_diff     testSUM  deviceSUM  \\\n",
       "15608     3651000      New York city, NY   78.697976  14683491.0  4229682.0   \n",
       "20394     4260000  Philadelphia city, PA   77.871479   1758046.0   553399.0   \n",
       "926       0455000       Phoenix city, AZ   50.535926   1549011.0   463279.0   \n",
       "5653      1714000       Chicago city, IL   47.572107   5943561.0  1698651.0   \n",
       "23262     4865000   San Antonio city, TX   41.527397   1536583.0   534811.0   \n",
       "\n",
       "             pop  perc_white  perc_below_poverty    city_cat  \n",
       "15608  8419316.0        42.7                17.9  very large  \n",
       "20394  1579075.0        40.7                24.3  very large  \n",
       "926    1633017.0        72.9                18.0  very large  \n",
       "5653   2709534.0        50.0                18.4  very large  \n",
       "23262  1508083.0        80.3                17.8  very large  "
      ]
     },
     "execution_count": 52,
     "metadata": {},
     "output_type": "execute_result"
    }
   ],
   "source": [
    "by_city.loc[by_city['city_cat'] == 'very large'].sort_values('dmean_diff',ascending=False).head()"
   ]
  },
  {
   "cell_type": "markdown",
   "metadata": {},
   "source": [
    "### Cities with the worst ookla_mean"
   ]
  },
  {
   "cell_type": "code",
   "execution_count": 81,
   "metadata": {},
   "outputs": [
    {
     "data": {
      "text/html": [
       "<div>\n",
       "<style scoped>\n",
       "    .dataframe tbody tr th:only-of-type {\n",
       "        vertical-align: middle;\n",
       "    }\n",
       "\n",
       "    .dataframe tbody tr th {\n",
       "        vertical-align: top;\n",
       "    }\n",
       "\n",
       "    .dataframe thead th {\n",
       "        text-align: right;\n",
       "    }\n",
       "</style>\n",
       "<table border=\"1\" class=\"dataframe\">\n",
       "  <thead>\n",
       "    <tr style=\"text-align: right;\">\n",
       "      <th></th>\n",
       "      <th>place_geoid</th>\n",
       "      <th>placenm</th>\n",
       "      <th>dmean_diff</th>\n",
       "      <th>fcc_dmean</th>\n",
       "      <th>ook_dmean</th>\n",
       "      <th>testSUM</th>\n",
       "      <th>deviceSUM</th>\n",
       "      <th>pop</th>\n",
       "      <th>perc_white</th>\n",
       "      <th>perc_below_poverty</th>\n",
       "      <th>city_cat</th>\n",
       "    </tr>\n",
       "  </thead>\n",
       "  <tbody>\n",
       "    <tr>\n",
       "      <th>718</th>\n",
       "      <td>0405140</td>\n",
       "      <td>Bagdad CDP, AZ</td>\n",
       "      <td>17.239333</td>\n",
       "      <td>17.333333</td>\n",
       "      <td>0.094</td>\n",
       "      <td>9.0</td>\n",
       "      <td>9.0</td>\n",
       "      <td>1774.0</td>\n",
       "      <td>96.4</td>\n",
       "      <td>4.1</td>\n",
       "      <td>town/rural</td>\n",
       "    </tr>\n",
       "    <tr>\n",
       "      <th>900</th>\n",
       "      <td>0449010</td>\n",
       "      <td>Nazlini CDP, AZ</td>\n",
       "      <td>11.454286</td>\n",
       "      <td>11.534286</td>\n",
       "      <td>0.080</td>\n",
       "      <td>10.0</td>\n",
       "      <td>10.0</td>\n",
       "      <td>522.0</td>\n",
       "      <td>0.0</td>\n",
       "      <td>67.4</td>\n",
       "      <td>town/rural</td>\n",
       "    </tr>\n",
       "    <tr>\n",
       "      <th>21483</th>\n",
       "      <td>4654020</td>\n",
       "      <td>Reliance town, SD</td>\n",
       "      <td>25.600762</td>\n",
       "      <td>25.654762</td>\n",
       "      <td>0.054</td>\n",
       "      <td>12.0</td>\n",
       "      <td>12.0</td>\n",
       "      <td>135.0</td>\n",
       "      <td>92.6</td>\n",
       "      <td>3.8</td>\n",
       "      <td>town/rural</td>\n",
       "    </tr>\n",
       "    <tr>\n",
       "      <th>17883</th>\n",
       "      <td>3959066</td>\n",
       "      <td>Otway village, OH</td>\n",
       "      <td>37.954000</td>\n",
       "      <td>38.000000</td>\n",
       "      <td>0.046</td>\n",
       "      <td>4.0</td>\n",
       "      <td>4.0</td>\n",
       "      <td>32.0</td>\n",
       "      <td>100.0</td>\n",
       "      <td>0.0</td>\n",
       "      <td>town/rural</td>\n",
       "    </tr>\n",
       "    <tr>\n",
       "      <th>4605</th>\n",
       "      <td>1315648</td>\n",
       "      <td>Chauncey city, GA</td>\n",
       "      <td>40.561238</td>\n",
       "      <td>40.595238</td>\n",
       "      <td>0.034</td>\n",
       "      <td>7.0</td>\n",
       "      <td>7.0</td>\n",
       "      <td>359.0</td>\n",
       "      <td>56.0</td>\n",
       "      <td>28.7</td>\n",
       "      <td>town/rural</td>\n",
       "    </tr>\n",
       "  </tbody>\n",
       "</table>\n",
       "</div>"
      ],
      "text/plain": [
       "      place_geoid            placenm  dmean_diff  fcc_dmean  ook_dmean  \\\n",
       "718       0405140     Bagdad CDP, AZ   17.239333  17.333333      0.094   \n",
       "900       0449010    Nazlini CDP, AZ   11.454286  11.534286      0.080   \n",
       "21483     4654020  Reliance town, SD   25.600762  25.654762      0.054   \n",
       "17883     3959066  Otway village, OH   37.954000  38.000000      0.046   \n",
       "4605      1315648  Chauncey city, GA   40.561238  40.595238      0.034   \n",
       "\n",
       "       testSUM  deviceSUM     pop  perc_white  perc_below_poverty    city_cat  \n",
       "718        9.0        9.0  1774.0        96.4                 4.1  town/rural  \n",
       "900       10.0       10.0   522.0         0.0                67.4  town/rural  \n",
       "21483     12.0       12.0   135.0        92.6                 3.8  town/rural  \n",
       "17883      4.0        4.0    32.0       100.0                 0.0  town/rural  \n",
       "4605       7.0        7.0   359.0        56.0                28.7  town/rural  "
      ]
     },
     "execution_count": 81,
     "metadata": {},
     "output_type": "execute_result"
    }
   ],
   "source": [
    "by_city.sort_values('ook_dmean',ascending=False).tail()"
   ]
  },
  {
   "cell_type": "code",
   "execution_count": 89,
   "metadata": {},
   "outputs": [
    {
     "data": {
      "text/html": [
       "<div>\n",
       "<style scoped>\n",
       "    .dataframe tbody tr th:only-of-type {\n",
       "        vertical-align: middle;\n",
       "    }\n",
       "\n",
       "    .dataframe tbody tr th {\n",
       "        vertical-align: top;\n",
       "    }\n",
       "\n",
       "    .dataframe thead th {\n",
       "        text-align: right;\n",
       "    }\n",
       "</style>\n",
       "<table border=\"1\" class=\"dataframe\">\n",
       "  <thead>\n",
       "    <tr style=\"text-align: right;\">\n",
       "      <th></th>\n",
       "      <th>place_geoid</th>\n",
       "      <th>placenm</th>\n",
       "      <th>dmean_diff</th>\n",
       "      <th>fcc_dmean</th>\n",
       "      <th>ook_dmean</th>\n",
       "      <th>testSUM</th>\n",
       "      <th>deviceSUM</th>\n",
       "      <th>pop</th>\n",
       "      <th>perc_white</th>\n",
       "      <th>perc_below_poverty</th>\n",
       "      <th>city_cat</th>\n",
       "    </tr>\n",
       "  </thead>\n",
       "  <tbody>\n",
       "    <tr>\n",
       "      <th>21238</th>\n",
       "      <td>4561405</td>\n",
       "      <td>Rock Hill city, SC</td>\n",
       "      <td>44.756066</td>\n",
       "      <td>83.005313</td>\n",
       "      <td>38.249247</td>\n",
       "      <td>474.0</td>\n",
       "      <td>248.0</td>\n",
       "      <td>73334.0</td>\n",
       "      <td>54.5</td>\n",
       "      <td>15.6</td>\n",
       "      <td>small</td>\n",
       "    </tr>\n",
       "    <tr>\n",
       "      <th>4045</th>\n",
       "      <td>1239925</td>\n",
       "      <td>Lehigh Acres CDP, FL</td>\n",
       "      <td>-12.137161</td>\n",
       "      <td>39.497586</td>\n",
       "      <td>51.634746</td>\n",
       "      <td>88298.0</td>\n",
       "      <td>28226.0</td>\n",
       "      <td>123378.0</td>\n",
       "      <td>71.1</td>\n",
       "      <td>20.0</td>\n",
       "      <td>small</td>\n",
       "    </tr>\n",
       "    <tr>\n",
       "      <th>22822</th>\n",
       "      <td>4843888</td>\n",
       "      <td>Longview city, TX</td>\n",
       "      <td>-18.141121</td>\n",
       "      <td>35.010075</td>\n",
       "      <td>53.151196</td>\n",
       "      <td>75265.0</td>\n",
       "      <td>21663.0</td>\n",
       "      <td>81653.0</td>\n",
       "      <td>72.1</td>\n",
       "      <td>18.8</td>\n",
       "      <td>small</td>\n",
       "    </tr>\n",
       "    <tr>\n",
       "      <th>23841</th>\n",
       "      <td>4965330</td>\n",
       "      <td>St. George city, UT</td>\n",
       "      <td>56.107794</td>\n",
       "      <td>117.644698</td>\n",
       "      <td>61.536904</td>\n",
       "      <td>129225.0</td>\n",
       "      <td>42112.0</td>\n",
       "      <td>84500.0</td>\n",
       "      <td>88.0</td>\n",
       "      <td>13.0</td>\n",
       "      <td>small</td>\n",
       "    </tr>\n",
       "    <tr>\n",
       "      <th>7395</th>\n",
       "      <td>1901855</td>\n",
       "      <td>Ames city, IA</td>\n",
       "      <td>37.261762</td>\n",
       "      <td>107.187546</td>\n",
       "      <td>69.925784</td>\n",
       "      <td>62009.0</td>\n",
       "      <td>19327.0</td>\n",
       "      <td>66023.0</td>\n",
       "      <td>81.3</td>\n",
       "      <td>28.0</td>\n",
       "      <td>small</td>\n",
       "    </tr>\n",
       "    <tr>\n",
       "      <th>8022</th>\n",
       "      <td>1983910</td>\n",
       "      <td>West Des Moines city, IA</td>\n",
       "      <td>52.162297</td>\n",
       "      <td>122.980982</td>\n",
       "      <td>70.818685</td>\n",
       "      <td>83197.0</td>\n",
       "      <td>25518.0</td>\n",
       "      <td>65606.0</td>\n",
       "      <td>84.7</td>\n",
       "      <td>5.9</td>\n",
       "      <td>small</td>\n",
       "    </tr>\n",
       "  </tbody>\n",
       "</table>\n",
       "</div>"
      ],
      "text/plain": [
       "      place_geoid                   placenm  dmean_diff   fcc_dmean  \\\n",
       "21238     4561405        Rock Hill city, SC   44.756066   83.005313   \n",
       "4045      1239925      Lehigh Acres CDP, FL  -12.137161   39.497586   \n",
       "22822     4843888         Longview city, TX  -18.141121   35.010075   \n",
       "23841     4965330       St. George city, UT   56.107794  117.644698   \n",
       "7395      1901855             Ames city, IA   37.261762  107.187546   \n",
       "8022      1983910  West Des Moines city, IA   52.162297  122.980982   \n",
       "\n",
       "       ook_dmean   testSUM  deviceSUM       pop  perc_white  \\\n",
       "21238  38.249247     474.0      248.0   73334.0        54.5   \n",
       "4045   51.634746   88298.0    28226.0  123378.0        71.1   \n",
       "22822  53.151196   75265.0    21663.0   81653.0        72.1   \n",
       "23841  61.536904  129225.0    42112.0   84500.0        88.0   \n",
       "7395   69.925784   62009.0    19327.0   66023.0        81.3   \n",
       "8022   70.818685   83197.0    25518.0   65606.0        84.7   \n",
       "\n",
       "       perc_below_poverty city_cat  \n",
       "21238                15.6    small  \n",
       "4045                 20.0    small  \n",
       "22822                18.8    small  \n",
       "23841                13.0    small  \n",
       "7395                 28.0    small  \n",
       "8022                  5.9    small  "
      ]
     },
     "execution_count": 89,
     "metadata": {},
     "output_type": "execute_result"
    }
   ],
   "source": [
    "by_city.loc[by_city['place_geoid'].isin(sm_city_list)].sort_values('ook_dmean',ascending=True).head(6)"
   ]
  },
  {
   "cell_type": "code",
   "execution_count": 90,
   "metadata": {},
   "outputs": [
    {
     "data": {
      "text/html": [
       "<div>\n",
       "<style scoped>\n",
       "    .dataframe tbody tr th:only-of-type {\n",
       "        vertical-align: middle;\n",
       "    }\n",
       "\n",
       "    .dataframe tbody tr th {\n",
       "        vertical-align: top;\n",
       "    }\n",
       "\n",
       "    .dataframe thead th {\n",
       "        text-align: right;\n",
       "    }\n",
       "</style>\n",
       "<table border=\"1\" class=\"dataframe\">\n",
       "  <thead>\n",
       "    <tr style=\"text-align: right;\">\n",
       "      <th></th>\n",
       "      <th>place_geoid</th>\n",
       "      <th>placenm</th>\n",
       "      <th>dmean_diff</th>\n",
       "      <th>fcc_dmean</th>\n",
       "      <th>ook_dmean</th>\n",
       "      <th>testSUM</th>\n",
       "      <th>deviceSUM</th>\n",
       "      <th>pop</th>\n",
       "      <th>perc_white</th>\n",
       "      <th>perc_below_poverty</th>\n",
       "      <th>city_cat</th>\n",
       "    </tr>\n",
       "  </thead>\n",
       "  <tbody>\n",
       "    <tr>\n",
       "      <th>18117</th>\n",
       "      <td>3977000</td>\n",
       "      <td>Toledo city, OH</td>\n",
       "      <td>1.368591</td>\n",
       "      <td>61.217346</td>\n",
       "      <td>59.848755</td>\n",
       "      <td>134555.0</td>\n",
       "      <td>42147.0</td>\n",
       "      <td>276614.0</td>\n",
       "      <td>62.6</td>\n",
       "      <td>25.5</td>\n",
       "      <td>midsized</td>\n",
       "    </tr>\n",
       "    <tr>\n",
       "      <th>11738</th>\n",
       "      <td>2758000</td>\n",
       "      <td>St. Paul city, MN</td>\n",
       "      <td>74.972751</td>\n",
       "      <td>176.597807</td>\n",
       "      <td>101.625056</td>\n",
       "      <td>254463.0</td>\n",
       "      <td>78184.0</td>\n",
       "      <td>304547.0</td>\n",
       "      <td>57.0</td>\n",
       "      <td>18.9</td>\n",
       "      <td>midsized</td>\n",
       "    </tr>\n",
       "    <tr>\n",
       "      <th>885</th>\n",
       "      <td>0446000</td>\n",
       "      <td>Mesa city, AZ</td>\n",
       "      <td>36.814881</td>\n",
       "      <td>141.695258</td>\n",
       "      <td>104.880377</td>\n",
       "      <td>629586.0</td>\n",
       "      <td>189980.0</td>\n",
       "      <td>499720.0</td>\n",
       "      <td>81.5</td>\n",
       "      <td>14.8</td>\n",
       "      <td>midsized</td>\n",
       "    </tr>\n",
       "    <tr>\n",
       "      <th>6906</th>\n",
       "      <td>1825000</td>\n",
       "      <td>Fort Wayne city, IN</td>\n",
       "      <td>-8.142434</td>\n",
       "      <td>98.950638</td>\n",
       "      <td>107.093072</td>\n",
       "      <td>201371.0</td>\n",
       "      <td>59645.0</td>\n",
       "      <td>265752.0</td>\n",
       "      <td>73.4</td>\n",
       "      <td>16.0</td>\n",
       "      <td>midsized</td>\n",
       "    </tr>\n",
       "    <tr>\n",
       "      <th>15022</th>\n",
       "      <td>3611000</td>\n",
       "      <td>Buffalo city, NY</td>\n",
       "      <td>75.114568</td>\n",
       "      <td>183.006958</td>\n",
       "      <td>107.892390</td>\n",
       "      <td>178272.0</td>\n",
       "      <td>57121.0</td>\n",
       "      <td>256480.0</td>\n",
       "      <td>47.1</td>\n",
       "      <td>30.1</td>\n",
       "      <td>midsized</td>\n",
       "    </tr>\n",
       "    <tr>\n",
       "      <th>9388</th>\n",
       "      <td>2255000</td>\n",
       "      <td>New Orleans city, LA</td>\n",
       "      <td>-20.062070</td>\n",
       "      <td>92.421272</td>\n",
       "      <td>112.483342</td>\n",
       "      <td>819146.0</td>\n",
       "      <td>256051.0</td>\n",
       "      <td>390845.0</td>\n",
       "      <td>33.9</td>\n",
       "      <td>23.7</td>\n",
       "      <td>midsized</td>\n",
       "    </tr>\n",
       "  </tbody>\n",
       "</table>\n",
       "</div>"
      ],
      "text/plain": [
       "      place_geoid               placenm  dmean_diff   fcc_dmean   ook_dmean  \\\n",
       "18117     3977000       Toledo city, OH    1.368591   61.217346   59.848755   \n",
       "11738     2758000     St. Paul city, MN   74.972751  176.597807  101.625056   \n",
       "885       0446000         Mesa city, AZ   36.814881  141.695258  104.880377   \n",
       "6906      1825000   Fort Wayne city, IN   -8.142434   98.950638  107.093072   \n",
       "15022     3611000      Buffalo city, NY   75.114568  183.006958  107.892390   \n",
       "9388      2255000  New Orleans city, LA  -20.062070   92.421272  112.483342   \n",
       "\n",
       "        testSUM  deviceSUM       pop  perc_white  perc_below_poverty  city_cat  \n",
       "18117  134555.0    42147.0  276614.0        62.6                25.5  midsized  \n",
       "11738  254463.0    78184.0  304547.0        57.0                18.9  midsized  \n",
       "885    629586.0   189980.0  499720.0        81.5                14.8  midsized  \n",
       "6906   201371.0    59645.0  265752.0        73.4                16.0  midsized  \n",
       "15022  178272.0    57121.0  256480.0        47.1                30.1  midsized  \n",
       "9388   819146.0   256051.0  390845.0        33.9                23.7  midsized  "
      ]
     },
     "execution_count": 90,
     "metadata": {},
     "output_type": "execute_result"
    }
   ],
   "source": [
    "by_city.loc[by_city['city_cat'] == 'midsized'].sort_values('ook_dmean',ascending=True).head(6)"
   ]
  },
  {
   "cell_type": "code",
   "execution_count": 91,
   "metadata": {},
   "outputs": [
    {
     "data": {
      "text/html": [
       "<div>\n",
       "<style scoped>\n",
       "    .dataframe tbody tr th:only-of-type {\n",
       "        vertical-align: middle;\n",
       "    }\n",
       "\n",
       "    .dataframe tbody tr th {\n",
       "        vertical-align: top;\n",
       "    }\n",
       "\n",
       "    .dataframe thead th {\n",
       "        text-align: right;\n",
       "    }\n",
       "</style>\n",
       "<table border=\"1\" class=\"dataframe\">\n",
       "  <thead>\n",
       "    <tr style=\"text-align: right;\">\n",
       "      <th></th>\n",
       "      <th>place_geoid</th>\n",
       "      <th>placenm</th>\n",
       "      <th>dmean_diff</th>\n",
       "      <th>fcc_dmean</th>\n",
       "      <th>ook_dmean</th>\n",
       "      <th>testSUM</th>\n",
       "      <th>deviceSUM</th>\n",
       "      <th>pop</th>\n",
       "      <th>perc_white</th>\n",
       "      <th>perc_below_poverty</th>\n",
       "      <th>city_cat</th>\n",
       "    </tr>\n",
       "  </thead>\n",
       "  <tbody>\n",
       "    <tr>\n",
       "      <th>14537</th>\n",
       "      <td>3502000</td>\n",
       "      <td>Albuquerque city, NM</td>\n",
       "      <td>12.016699</td>\n",
       "      <td>111.735307</td>\n",
       "      <td>99.718609</td>\n",
       "      <td>419222.0</td>\n",
       "      <td>118826.0</td>\n",
       "      <td>559374.0</td>\n",
       "      <td>73.9</td>\n",
       "      <td>16.9</td>\n",
       "      <td>large</td>\n",
       "    </tr>\n",
       "    <tr>\n",
       "      <th>21782</th>\n",
       "      <td>4748000</td>\n",
       "      <td>Memphis city, TN</td>\n",
       "      <td>44.681404</td>\n",
       "      <td>146.685060</td>\n",
       "      <td>102.003656</td>\n",
       "      <td>468483.0</td>\n",
       "      <td>136588.0</td>\n",
       "      <td>651932.0</td>\n",
       "      <td>29.2</td>\n",
       "      <td>25.1</td>\n",
       "      <td>large</td>\n",
       "    </tr>\n",
       "    <tr>\n",
       "      <th>1025</th>\n",
       "      <td>0477000</td>\n",
       "      <td>Tucson city, AZ</td>\n",
       "      <td>35.073743</td>\n",
       "      <td>139.165743</td>\n",
       "      <td>104.092000</td>\n",
       "      <td>382195.0</td>\n",
       "      <td>121542.0</td>\n",
       "      <td>541482.0</td>\n",
       "      <td>72.1</td>\n",
       "      <td>22.5</td>\n",
       "      <td>large</td>\n",
       "    </tr>\n",
       "    <tr>\n",
       "      <th>17310</th>\n",
       "      <td>3918000</td>\n",
       "      <td>Columbus city, OH</td>\n",
       "      <td>105.336227</td>\n",
       "      <td>216.914949</td>\n",
       "      <td>111.578722</td>\n",
       "      <td>1058491.0</td>\n",
       "      <td>327839.0</td>\n",
       "      <td>878553.0</td>\n",
       "      <td>58.6</td>\n",
       "      <td>19.5</td>\n",
       "      <td>large</td>\n",
       "    </tr>\n",
       "    <tr>\n",
       "      <th>10571</th>\n",
       "      <td>2622000</td>\n",
       "      <td>Detroit city, MI</td>\n",
       "      <td>1.359826</td>\n",
       "      <td>120.201887</td>\n",
       "      <td>118.842062</td>\n",
       "      <td>303993.0</td>\n",
       "      <td>106897.0</td>\n",
       "      <td>674841.0</td>\n",
       "      <td>14.7</td>\n",
       "      <td>35.0</td>\n",
       "      <td>large</td>\n",
       "    </tr>\n",
       "  </tbody>\n",
       "</table>\n",
       "</div>"
      ],
      "text/plain": [
       "      place_geoid               placenm  dmean_diff   fcc_dmean   ook_dmean  \\\n",
       "14537     3502000  Albuquerque city, NM   12.016699  111.735307   99.718609   \n",
       "21782     4748000      Memphis city, TN   44.681404  146.685060  102.003656   \n",
       "1025      0477000       Tucson city, AZ   35.073743  139.165743  104.092000   \n",
       "17310     3918000     Columbus city, OH  105.336227  216.914949  111.578722   \n",
       "10571     2622000      Detroit city, MI    1.359826  120.201887  118.842062   \n",
       "\n",
       "         testSUM  deviceSUM       pop  perc_white  perc_below_poverty city_cat  \n",
       "14537   419222.0   118826.0  559374.0        73.9                16.9    large  \n",
       "21782   468483.0   136588.0  651932.0        29.2                25.1    large  \n",
       "1025    382195.0   121542.0  541482.0        72.1                22.5    large  \n",
       "17310  1058491.0   327839.0  878553.0        58.6                19.5    large  \n",
       "10571   303993.0   106897.0  674841.0        14.7                35.0    large  "
      ]
     },
     "execution_count": 91,
     "metadata": {},
     "output_type": "execute_result"
    }
   ],
   "source": [
    "by_city.loc[by_city['city_cat'] == 'large'].sort_values('ook_dmean',ascending=True).head()"
   ]
  },
  {
   "cell_type": "code",
   "execution_count": 93,
   "metadata": {},
   "outputs": [
    {
     "data": {
      "text/html": [
       "<div>\n",
       "<style scoped>\n",
       "    .dataframe tbody tr th:only-of-type {\n",
       "        vertical-align: middle;\n",
       "    }\n",
       "\n",
       "    .dataframe tbody tr th {\n",
       "        vertical-align: top;\n",
       "    }\n",
       "\n",
       "    .dataframe thead th {\n",
       "        text-align: right;\n",
       "    }\n",
       "</style>\n",
       "<table border=\"1\" class=\"dataframe\">\n",
       "  <thead>\n",
       "    <tr style=\"text-align: right;\">\n",
       "      <th></th>\n",
       "      <th>place_geoid</th>\n",
       "      <th>placenm</th>\n",
       "      <th>dmean_diff</th>\n",
       "      <th>fcc_dmean</th>\n",
       "      <th>ook_dmean</th>\n",
       "      <th>testSUM</th>\n",
       "      <th>deviceSUM</th>\n",
       "      <th>pop</th>\n",
       "      <th>perc_white</th>\n",
       "      <th>perc_below_poverty</th>\n",
       "      <th>city_cat</th>\n",
       "    </tr>\n",
       "  </thead>\n",
       "  <tbody>\n",
       "    <tr>\n",
       "      <th>926</th>\n",
       "      <td>0455000</td>\n",
       "      <td>Phoenix city, AZ</td>\n",
       "      <td>50.535926</td>\n",
       "      <td>167.826146</td>\n",
       "      <td>117.290219</td>\n",
       "      <td>1549011.0</td>\n",
       "      <td>463279.0</td>\n",
       "      <td>1633017.0</td>\n",
       "      <td>72.9</td>\n",
       "      <td>18.0</td>\n",
       "      <td>very large</td>\n",
       "    </tr>\n",
       "    <tr>\n",
       "      <th>2664</th>\n",
       "      <td>0666000</td>\n",
       "      <td>San Diego city, CA</td>\n",
       "      <td>32.401472</td>\n",
       "      <td>159.059181</td>\n",
       "      <td>126.657709</td>\n",
       "      <td>2342592.0</td>\n",
       "      <td>724590.0</td>\n",
       "      <td>1409573.0</td>\n",
       "      <td>65.1</td>\n",
       "      <td>12.8</td>\n",
       "      <td>very large</td>\n",
       "    </tr>\n",
       "    <tr>\n",
       "      <th>5653</th>\n",
       "      <td>1714000</td>\n",
       "      <td>Chicago city, IL</td>\n",
       "      <td>47.572107</td>\n",
       "      <td>179.422544</td>\n",
       "      <td>131.850437</td>\n",
       "      <td>5943561.0</td>\n",
       "      <td>1698651.0</td>\n",
       "      <td>2709534.0</td>\n",
       "      <td>50.0</td>\n",
       "      <td>18.4</td>\n",
       "      <td>very large</td>\n",
       "    </tr>\n",
       "    <tr>\n",
       "      <th>2674</th>\n",
       "      <td>0668000</td>\n",
       "      <td>San Jose city, CA</td>\n",
       "      <td>0.638525</td>\n",
       "      <td>139.644879</td>\n",
       "      <td>139.006354</td>\n",
       "      <td>1673690.0</td>\n",
       "      <td>456155.0</td>\n",
       "      <td>1027690.0</td>\n",
       "      <td>39.9</td>\n",
       "      <td>8.7</td>\n",
       "      <td>very large</td>\n",
       "    </tr>\n",
       "    <tr>\n",
       "      <th>22599</th>\n",
       "      <td>4835000</td>\n",
       "      <td>Houston city, TX</td>\n",
       "      <td>-7.719432</td>\n",
       "      <td>135.913310</td>\n",
       "      <td>143.632742</td>\n",
       "      <td>3822653.0</td>\n",
       "      <td>1196922.0</td>\n",
       "      <td>2310432.0</td>\n",
       "      <td>57.0</td>\n",
       "      <td>20.1</td>\n",
       "      <td>very large</td>\n",
       "    </tr>\n",
       "  </tbody>\n",
       "</table>\n",
       "</div>"
      ],
      "text/plain": [
       "      place_geoid             placenm  dmean_diff   fcc_dmean   ook_dmean  \\\n",
       "926       0455000    Phoenix city, AZ   50.535926  167.826146  117.290219   \n",
       "2664      0666000  San Diego city, CA   32.401472  159.059181  126.657709   \n",
       "5653      1714000    Chicago city, IL   47.572107  179.422544  131.850437   \n",
       "2674      0668000   San Jose city, CA    0.638525  139.644879  139.006354   \n",
       "22599     4835000    Houston city, TX   -7.719432  135.913310  143.632742   \n",
       "\n",
       "         testSUM  deviceSUM        pop  perc_white  perc_below_poverty  \\\n",
       "926    1549011.0   463279.0  1633017.0        72.9                18.0   \n",
       "2664   2342592.0   724590.0  1409573.0        65.1                12.8   \n",
       "5653   5943561.0  1698651.0  2709534.0        50.0                18.4   \n",
       "2674   1673690.0   456155.0  1027690.0        39.9                 8.7   \n",
       "22599  3822653.0  1196922.0  2310432.0        57.0                20.1   \n",
       "\n",
       "         city_cat  \n",
       "926    very large  \n",
       "2664   very large  \n",
       "5653   very large  \n",
       "2674   very large  \n",
       "22599  very large  "
      ]
     },
     "execution_count": 93,
     "metadata": {},
     "output_type": "execute_result"
    }
   ],
   "source": [
    "by_city.loc[by_city['city_cat'] == 'very large'].sort_values('ook_dmean',ascending=True).head()"
   ]
  },
  {
   "cell_type": "markdown",
   "metadata": {},
   "source": [
    "### Is the diff more pronounced in granular areas within cities (tracts w/i places) that have higher poverty?\n",
    "\n",
    "Poverty bins:\n",
    "- 0 - 5\n",
    "- 5 - 15\n",
    "- 15 - 30\n",
    "- 30 - 50\n",
    "- 50+\n",
    "\n",
    "The average tract percent below poverty is 15%."
   ]
  },
  {
   "cell_type": "code",
   "execution_count": 102,
   "metadata": {},
   "outputs": [
    {
     "data": {
      "text/plain": [
       "15.022745355370546"
      ]
     },
     "execution_count": 102,
     "metadata": {},
     "output_type": "execute_result"
    }
   ],
   "source": [
    "all_tract_demo.loc[~(all_tract_demo['tract_poverty_cat']=='no poverty data')]['perc_below_poverty'].mean()"
   ]
  },
  {
   "cell_type": "code",
   "execution_count": 103,
   "metadata": {},
   "outputs": [
    {
     "data": {
      "text/plain": [
       "tract_poverty_cat\n",
       "extreme             1412\n",
       "high                6807\n",
       "high average       19751\n",
       "low                12877\n",
       "low average        32302\n",
       "no poverty data      149\n",
       "Name: perc_below_poverty, dtype: int64"
      ]
     },
     "execution_count": 103,
     "metadata": {},
     "output_type": "execute_result"
    }
   ],
   "source": [
    "all_tract_demo.groupby('tract_poverty_cat')['perc_below_poverty'].count()"
   ]
  },
  {
   "cell_type": "markdown",
   "metadata": {},
   "source": [
    "The next code block just tests to make sure our categorization code above worked right. Change the category title to see the maxs and mins for each category."
   ]
  },
  {
   "cell_type": "code",
   "execution_count": 104,
   "metadata": {},
   "outputs": [
    {
     "name": "stdout",
     "output_type": "stream",
     "text": [
      "4.9\n",
      "0.0\n"
     ]
    }
   ],
   "source": [
    "print(all_tract_demo.loc[all_tract_demo['tract_poverty_cat'] == 'low']['perc_below_poverty'].max())\n",
    "print(all_tract_demo.loc[all_tract_demo['tract_poverty_cat'] == 'low']['perc_below_poverty'].min())"
   ]
  },
  {
   "cell_type": "code",
   "execution_count": 59,
   "metadata": {},
   "outputs": [],
   "source": [
    "extreme_pov_list = list(all_tract_demo.loc[all_tract_demo['tract_poverty_cat'] == 'extreme']['tract_geoid'].unique())\n",
    "high_pov_list = list(all_tract_demo.loc[all_tract_demo['tract_poverty_cat'] == 'high']['tract_geoid'].unique())\n",
    "high_avg_list = list(all_tract_demo.loc[all_tract_demo['tract_poverty_cat'] == 'high average']['tract_geoid'].unique())\n",
    "low_avg_list = list(all_tract_demo.loc[(all_tract_demo['tract_poverty_cat'] == 'low average')]['tract_geoid'].unique())\n",
    "low_list = list(all_tract_demo.loc[(all_tract_demo['tract_poverty_cat'] == 'low')]['tract_geoid'].unique())"
   ]
  },
  {
   "cell_type": "markdown",
   "metadata": {},
   "source": [
    "**In all parts of the country**"
   ]
  },
  {
   "cell_type": "code",
   "execution_count": 60,
   "metadata": {},
   "outputs": [],
   "source": [
    "extreme_tract_data = with_diff.loc[with_diff['tract_geoid'].isin(extreme_pov_list)]\n",
    "high_tract_data = with_diff.loc[with_diff['tract_geoid'].isin(high_pov_list)]\n",
    "highavg_tract_data = with_diff.loc[with_diff['tract_geoid'].isin(high_avg_list)]\n",
    "lowavg_tract_data = with_diff.loc[with_diff['tract_geoid'].isin(low_avg_list)]\n",
    "low_tract_data = with_diff.loc[with_diff['tract_geoid'].isin(low_list)]"
   ]
  },
  {
   "cell_type": "code",
   "execution_count": 61,
   "metadata": {},
   "outputs": [
    {
     "name": "stdout",
     "output_type": "stream",
     "text": [
      "All blocks with diff: 109.24184356491239\n",
      "Extreme poverty blocks: 89.76008376016969\n",
      "High poverty blocks: 108.830822954653\n",
      "High-average poverty blocks: 104.38842409012562\n",
      "Low-average poverty blocks: 107.24150602986133\n",
      "Low poverty blocks: 125.7361203128022\n"
     ]
    }
   ],
   "source": [
    "key_var = 'ook_dmean'\n",
    "print('All blocks with diff:',with_diff[key_var].mean())\n",
    "print('Extreme poverty blocks:',extreme_tract_data[key_var].mean())\n",
    "print('High poverty blocks:',high_tract_data[key_var].mean())\n",
    "print('High-average poverty blocks:',highavg_tract_data[key_var].mean())\n",
    "print('Low-average poverty blocks:',lowavg_tract_data[key_var].mean())\n",
    "print('Low poverty blocks:',low_tract_data[key_var].mean())"
   ]
  },
  {
   "cell_type": "markdown",
   "metadata": {},
   "source": [
    "**In very large cities**"
   ]
  },
  {
   "cell_type": "code",
   "execution_count": 62,
   "metadata": {},
   "outputs": [],
   "source": [
    "xl_extreme_tract_data = xl_city_data.loc[xl_city_data['tract_geoid'].isin(extreme_pov_list)]\n",
    "xl_high_tract_data = xl_city_data.loc[xl_city_data['tract_geoid'].isin(high_pov_list)]\n",
    "xl_highavg_tract_data = xl_city_data.loc[xl_city_data['tract_geoid'].isin(high_avg_list)]\n",
    "xl_lowavg_tract_data = xl_city_data.loc[xl_city_data['tract_geoid'].isin(low_avg_list)]\n",
    "xl_low_tract_data = xl_city_data.loc[xl_city_data['tract_geoid'].isin(low_list)]"
   ]
  },
  {
   "cell_type": "code",
   "execution_count": 63,
   "metadata": {},
   "outputs": [
    {
     "name": "stdout",
     "output_type": "stream",
     "text": [
      "All very large cities: 145.53607338838103\n",
      "Extreme poverty blocks in very large cities: 140.28139001170246\n",
      "High poverty blocks in very large cities: 143.53621618214927\n",
      "High-average poverty blocks in very large cities: 146.59600936744982\n",
      "Low-average poverty blocks in very large cities: 146.37116053182834\n",
      "Low poverty blocks in very large cities: 144.84255831541094\n"
     ]
    }
   ],
   "source": [
    "key_var = 'ook_dmean'\n",
    "print('All very large cities:',xl_city_data[key_var].mean())\n",
    "print('Extreme poverty blocks in very large cities:',xl_extreme_tract_data[key_var].mean())\n",
    "print('High poverty blocks in very large cities:',xl_high_tract_data[key_var].mean())\n",
    "print('High-average poverty blocks in very large cities:',xl_highavg_tract_data[key_var].mean())\n",
    "print('Low-average poverty blocks in very large cities:',xl_lowavg_tract_data[key_var].mean())\n",
    "print('Low poverty blocks in very large cities:',xl_low_tract_data[key_var].mean())"
   ]
  },
  {
   "cell_type": "markdown",
   "metadata": {},
   "source": [
    "**In large cities**"
   ]
  },
  {
   "cell_type": "code",
   "execution_count": 64,
   "metadata": {},
   "outputs": [],
   "source": [
    "lg_extreme_tract_data = lg_city_data.loc[lg_city_data['tract_geoid'].isin(extreme_pov_list)]\n",
    "lg_high_tract_data = lg_city_data.loc[lg_city_data['tract_geoid'].isin(high_pov_list)]\n",
    "lg_highavg_tract_data = lg_city_data.loc[lg_city_data['tract_geoid'].isin(high_avg_list)]\n",
    "lg_lowavg_tract_data = lg_city_data.loc[lg_city_data['tract_geoid'].isin(low_avg_list)]\n",
    "lg_low_tract_data = lg_city_data.loc[lg_city_data['tract_geoid'].isin(low_list)]"
   ]
  },
  {
   "cell_type": "code",
   "execution_count": 65,
   "metadata": {},
   "outputs": [
    {
     "name": "stdout",
     "output_type": "stream",
     "text": [
      "All large cities: 136.8025031560316\n",
      "Extreme poverty blocks in large cities: 120.9552986450211\n",
      "High poverty blocks in large cities: 130.136167471901\n",
      "High-average poverty blocks in large cities: 138.0842577720541\n",
      "Low-average poverty blocks in large cities: 139.66573138815815\n",
      "Low poverty blocks in large cities: 138.8991477007663\n"
     ]
    }
   ],
   "source": [
    "key_var = 'ook_dmean'\n",
    "print('All large cities:',lg_city_data[key_var].mean())\n",
    "print('Extreme poverty blocks in large cities:',lg_extreme_tract_data[key_var].mean())\n",
    "print('High poverty blocks in large cities:',lg_high_tract_data[key_var].mean())\n",
    "print('High-average poverty blocks in large cities:',lg_highavg_tract_data[key_var].mean())\n",
    "print('Low-average poverty blocks in large cities:',lg_lowavg_tract_data[key_var].mean())\n",
    "print('Low poverty blocks in large cities:',lg_low_tract_data[key_var].mean())"
   ]
  },
  {
   "cell_type": "markdown",
   "metadata": {},
   "source": [
    "**In midsized cities**"
   ]
  },
  {
   "cell_type": "code",
   "execution_count": 66,
   "metadata": {},
   "outputs": [],
   "source": [
    "md_extreme_tract_data = md_city_data.loc[md_city_data['tract_geoid'].isin(extreme_pov_list)]\n",
    "md_high_tract_data = md_city_data.loc[md_city_data['tract_geoid'].isin(high_pov_list)]\n",
    "md_highavg_tract_data = md_city_data.loc[md_city_data['tract_geoid'].isin(high_avg_list)]\n",
    "md_lowavg_tract_data = md_city_data.loc[md_city_data['tract_geoid'].isin(low_avg_list)]\n",
    "md_low_tract_data = md_city_data.loc[md_city_data['tract_geoid'].isin(low_list)]"
   ]
  },
  {
   "cell_type": "code",
   "execution_count": 67,
   "metadata": {},
   "outputs": [
    {
     "name": "stdout",
     "output_type": "stream",
     "text": [
      "All midsized cities: 133.22725981122838\n",
      "Extreme poverty blocks in midsized cities: 118.38967315753179\n",
      "High poverty blocks in midsized cities: 130.58847484211813\n",
      "High-average poverty blocks in midsized cities: 135.57195062706748\n",
      "Low-average poverty blocks in midsized cities: 133.14654737307188\n",
      "Low poverty blocks in midsized cities: 134.9400231427432\n"
     ]
    }
   ],
   "source": [
    "key_var = 'ook_dmean'\n",
    "print('All midsized cities:',md_city_data[key_var].mean())\n",
    "print('Extreme poverty blocks in midsized cities:',md_extreme_tract_data[key_var].mean())\n",
    "print('High poverty blocks in midsized cities:',md_high_tract_data[key_var].mean())\n",
    "print('High-average poverty blocks in midsized cities:',md_highavg_tract_data[key_var].mean())\n",
    "print('Low-average poverty blocks in midsized cities:',md_lowavg_tract_data[key_var].mean())\n",
    "print('Low poverty blocks in midsized cities:',md_low_tract_data[key_var].mean())"
   ]
  },
  {
   "cell_type": "markdown",
   "metadata": {},
   "source": [
    "**In small cities**"
   ]
  },
  {
   "cell_type": "code",
   "execution_count": 68,
   "metadata": {},
   "outputs": [],
   "source": [
    "sm_extreme_tract_data = sm_city_data.loc[sm_city_data['tract_geoid'].isin(extreme_pov_list)]\n",
    "sm_high_tract_data = sm_city_data.loc[sm_city_data['tract_geoid'].isin(high_pov_list)]\n",
    "sm_highavg_tract_data = sm_city_data.loc[sm_city_data['tract_geoid'].isin(high_avg_list)]\n",
    "sm_lowavg_tract_data = sm_city_data.loc[sm_city_data['tract_geoid'].isin(low_avg_list)]\n",
    "sm_low_tract_data = sm_city_data.loc[sm_city_data['tract_geoid'].isin(low_list)]"
   ]
  },
  {
   "cell_type": "code",
   "execution_count": 69,
   "metadata": {},
   "outputs": [
    {
     "name": "stdout",
     "output_type": "stream",
     "text": [
      "All small cities: 129.8062440639753\n",
      "Extreme poverty blocks in small cities: 113.96201090723471\n",
      "High poverty blocks in small cities: 121.22719399065184\n",
      "High-average poverty blocks in small cities: 128.51157594336357\n",
      "Low-average poverty blocks in small cities: 132.15305767141578\n",
      "Low poverty blocks in small cities: 134.3179127542814\n"
     ]
    }
   ],
   "source": [
    "key_var = 'ook_dmean'\n",
    "print('All small cities:',sm_city_data[key_var].mean())\n",
    "print('Extreme poverty blocks in small cities:',sm_extreme_tract_data[key_var].mean())\n",
    "print('High poverty blocks in small cities:',sm_high_tract_data[key_var].mean())\n",
    "print('High-average poverty blocks in small cities:',sm_highavg_tract_data[key_var].mean())\n",
    "print('Low-average poverty blocks in small cities:',sm_lowavg_tract_data[key_var].mean())\n",
    "print('Low poverty blocks in small cities:',sm_low_tract_data[key_var].mean())"
   ]
  },
  {
   "cell_type": "markdown",
   "metadata": {},
   "source": [
    "## Select cities\n",
    "\n",
    "There are a few cities we'll want to look at specifically. Like, we need to do that poverty analysis for each of them.\n",
    "\n",
    "**The top 2 worst diff cities in each city size category:**\n",
    " - New York city, NY (3651000) and Philadelphia city, PA (4260000) for very large cities\n",
    " - Las Vegas city, NV (3240000) and Columbus city, OH (3918000) for large cities\n",
    " - Henderson city, NV (3231900) and St. Petersburg city, FL (1263000) for midsized cities\n",
    " - Montgomery city, AL (0151000) and Kingsport city, TN (4739560) for small cities\n",
    " \n",
    "\n",
    "**The cities that Adam mentioned:**\n",
    " - Little Rock, AR\n",
    " - Durham, NC and Raleigh, NC (the research triangle area)\n",
    " - Chattanooga, TN\n",
    " - San Francisco, CA"
   ]
  },
  {
   "cell_type": "code",
   "execution_count": 108,
   "metadata": {},
   "outputs": [],
   "source": [
    "def slugify(text):\n",
    "    text = text.lower()\n",
    "    return re.sub(r'[\\W_]+', '-', text)\n",
    "\n",
    "def print_city_specific_stats(place_geoid,place_nm,key_var):\n",
    "    city_data = in_place.loc[in_place['place_geoid'] == place_geoid]\n",
    "    place_slug = slugify(place_nm)\n",
    "    city_data.to_file('../GIS/sample-cities/ookla-fcc-'+place_slug+'.shp')\n",
    "\n",
    "    extreme_tract_data = city_data.loc[city_data['tract_geoid'].isin(extreme_pov_list)]\n",
    "    high_tract_data = city_data.loc[city_data['tract_geoid'].isin(high_pov_list)]\n",
    "    highavg_tract_data = city_data.loc[city_data['tract_geoid'].isin(high_avg_list)]\n",
    "    lowavg_tract_data = city_data.loc[city_data['tract_geoid'].isin(low_avg_list)]\n",
    "    low_tract_data = city_data.loc[city_data['tract_geoid'].isin(low_list)]\n",
    "\n",
    "    print('All '+place_nm+':',city_data[key_var].mean())\n",
    "    print('Extreme poverty blocks in '+place_nm+':',extreme_tract_data[key_var].mean(),'(',len(extreme_tract_data),'/',extreme_tract_data.testSUM.sum(),'/',extreme_tract_data.deviceSUM.sum(),')')\n",
    "    print('High poverty blocks in '+place_nm+':',high_tract_data[key_var].mean(),'(',len(high_tract_data),'/',high_tract_data.testSUM.sum(),'/',high_tract_data.deviceSUM.sum(),')')\n",
    "    print('High-average poverty blocks in '+place_nm+':',highavg_tract_data[key_var].mean(),'(',len(highavg_tract_data),'/',highavg_tract_data.testSUM.sum(),'/',highavg_tract_data.deviceSUM.sum(),')')\n",
    "    print('Low-average poverty blocks in '+place_nm+':',lowavg_tract_data[key_var].mean(),'(',len(lowavg_tract_data),'/',lowavg_tract_data.testSUM.sum(),'/',lowavg_tract_data.deviceSUM.sum(),')')\n",
    "    print('Low poverty blocks in '+place_nm+':',low_tract_data[key_var].mean(),'(',len(low_tract_data),'/',low_tract_data.testSUM.sum(),'/',low_tract_data.deviceSUM.sum(),')')"
   ]
  },
  {
   "cell_type": "code",
   "execution_count": 109,
   "metadata": {},
   "outputs": [
    {
     "name": "stdout",
     "output_type": "stream",
     "text": [
      "All New York city, NY: 156.88064372797015\n",
      "Extreme poverty blocks in New York city, NY: 151.55599461916083 ( 561 / 169686.0 / 52718.0 )\n",
      "High poverty blocks in New York city, NY: 153.43590705683278 ( 3954 / 1797432.0 / 476851.0 )\n",
      "High-average poverty blocks in New York city, NY: 153.07282772605822 ( 9844 / 4630799.0 / 1263169.0 )\n",
      "Low-average poverty blocks in New York city, NY: 160.2382932677006 ( 17710 / 6326162.0 / 1883956.0 )\n",
      "Low poverty blocks in New York city, NY: 158.56171478216808 ( 5791 / 1637895.0 / 515360.0 )\n"
     ]
    }
   ],
   "source": [
    "print_city_specific_stats('3651000','New York city, NY','ook_dmean')"
   ]
  },
  {
   "cell_type": "code",
   "execution_count": 110,
   "metadata": {},
   "outputs": [
    {
     "name": "stdout",
     "output_type": "stream",
     "text": [
      "All Philadelphia city, PA: 153.0735488705092\n",
      "Extreme poverty blocks in Philadelphia city, PA: 151.06040397286822 ( 1204 / 60296.0 / 22812.0 )\n",
      "High poverty blocks in Philadelphia city, PA: 149.34706411058795 ( 4976 / 300193.0 / 98651.0 )\n",
      "High-average poverty blocks in Philadelphia city, PA: 152.73769846144305 ( 5951 / 614606.0 / 192597.0 )\n",
      "Low-average poverty blocks in Philadelphia city, PA: 158.237785979814 ( 4869 / 654846.0 / 200787.0 )\n",
      "Low poverty blocks in Philadelphia city, PA: 160.14705100059123 ( 1047 / 118253.0 / 34797.0 )\n"
     ]
    }
   ],
   "source": [
    "print_city_specific_stats('4260000','Philadelphia city, PA','ook_dmean')"
   ]
  },
  {
   "cell_type": "code",
   "execution_count": 111,
   "metadata": {},
   "outputs": [
    {
     "name": "stdout",
     "output_type": "stream",
     "text": [
      "All Las Vegas city, NV: 124.78031184692298\n",
      "Extreme poverty blocks in Las Vegas city, NV: 107.53710833333332 ( 20 / 441.0 / 178.0 )\n",
      "High poverty blocks in Las Vegas city, NV: 115.85258489322533 ( 970 / 61614.0 / 22833.0 )\n",
      "High-average poverty blocks in Las Vegas city, NV: 127.02880785513901 ( 1307 / 113164.0 / 36649.0 )\n",
      "Low-average poverty blocks in Las Vegas city, NV: 125.61704666869277 ( 2888 / 376457.0 / 106654.0 )\n",
      "Low poverty blocks in Las Vegas city, NV: 129.02883893347598 ( 859 / 148966.0 / 38238.0 )\n"
     ]
    }
   ],
   "source": [
    "print_city_specific_stats('3240000','Las Vegas city, NV','ook_dmean')"
   ]
  },
  {
   "cell_type": "code",
   "execution_count": null,
   "metadata": {},
   "outputs": [],
   "source": [
    "print_city_specific_stats('3918000','Columbus city, OH','ook_dmean')"
   ]
  },
  {
   "cell_type": "code",
   "execution_count": null,
   "metadata": {},
   "outputs": [],
   "source": [
    "print_city_specific_stats('3231900','Henderson city, NV','ook_dmean')"
   ]
  },
  {
   "cell_type": "code",
   "execution_count": null,
   "metadata": {},
   "outputs": [],
   "source": [
    "print_city_specific_stats('1263000','St. Petersburg city, FL','ook_dmean')"
   ]
  },
  {
   "cell_type": "code",
   "execution_count": null,
   "metadata": {},
   "outputs": [],
   "source": [
    "print_city_specific_stats('0151000','Montgomery city, AL','ook_dmean')"
   ]
  },
  {
   "cell_type": "code",
   "execution_count": null,
   "metadata": {},
   "outputs": [],
   "source": [
    "print_city_specific_stats('4739560','Kingsport city, TN','ook_dmean')"
   ]
  },
  {
   "cell_type": "code",
   "execution_count": null,
   "metadata": {},
   "outputs": [],
   "source": [
    "print_city_specific_stats('0541000','Little Rock city, Arkansas','ook_dmean')"
   ]
  },
  {
   "cell_type": "code",
   "execution_count": null,
   "metadata": {},
   "outputs": [],
   "source": [
    "print_city_specific_stats('3719000','Durham city, North Carolina','ook_dmean')"
   ]
  },
  {
   "cell_type": "code",
   "execution_count": null,
   "metadata": {},
   "outputs": [],
   "source": [
    "print_city_specific_stats('3755000','Raleigh city, North Carolina','ook_dmean')"
   ]
  },
  {
   "cell_type": "code",
   "execution_count": null,
   "metadata": {},
   "outputs": [],
   "source": [
    "print_city_specific_stats('4714000','Chattanooga city, Tennessee','ook_dmean')"
   ]
  },
  {
   "cell_type": "code",
   "execution_count": null,
   "metadata": {},
   "outputs": [],
   "source": [
    "print_city_specific_stats('0667000','San Francisco city, California','ook_dmean')"
   ]
  },
  {
   "cell_type": "code",
   "execution_count": null,
   "metadata": {},
   "outputs": [],
   "source": [
    "all_place_demo.loc[all_place_demo['name'].str.contains('San Francisco')]"
   ]
  },
  {
   "cell_type": "markdown",
   "metadata": {},
   "source": [
    "---------------------"
   ]
  },
  {
   "cell_type": "code",
   "execution_count": null,
   "metadata": {},
   "outputs": [],
   "source": [
    "print(len(xl_city_list),'very large cities with',len(extreme_pov_list),'blocks')\n",
    "print(len(lg_city_list),'large cities with',len(lg_city_data),'blocks')\n",
    "print(len(md_city_list),'midsized cities with',len(md_city_data),'blocks')\n",
    "print(len(sm_city_list),'small cities with',len(sm_city_data),'blocks')\n",
    "print(len(town_rural_list),'towns and rural places with',len(town_rural_data),'blocks')"
   ]
  },
  {
   "cell_type": "code",
   "execution_count": null,
   "metadata": {},
   "outputs": [],
   "source": [
    "print('All blocks with diff:',with_diff.dmean_diff.mean())\n",
    "print('All blocks in places:',in_place.dmean_diff.mean())\n",
    "print('All blocks in xl places:',xl_city_data.dmean_diff.mean())\n",
    "print('All blocks in lg places:',lg_city_data.dmean_diff.mean())\n",
    "print('All blocks in md places:',md_city_data.dmean_diff.mean())\n",
    "print('All blocks in sm places:',sm_city_data.dmean_diff.mean())\n",
    "print('All blocks in town/rural places:',town_rural_data.dmean_diff.mean())"
   ]
  },
  {
   "cell_type": "code",
   "execution_count": null,
   "metadata": {},
   "outputs": [],
   "source": [
    "all_tract_demo = all_tract_demo.loc[all_tract_demo['perc_below_poverty'] >= 0]\n",
    "\n",
    "#get tracts in places with diff readings\n",
    "diff_by_tract = in_place.groupby(['tract_geoid']).agg({'dmean_diff':'mean','testSUM':'sum','deviceSUM':'sum'}).reset_index()\n",
    "diff_by_tract = diff_by_tract.merge(all_tract_demo[['tract_geoid','perc_white','perc_below_poverty','poverty_quartiles']],on='tract_geoid', how='left')"
   ]
  },
  {
   "cell_type": "code",
   "execution_count": null,
   "metadata": {},
   "outputs": [],
   "source": [
    "diff_by_tract.groupby('poverty_quartiles').agg({'dmean_diff':'mean','testSUM':'sum','deviceSUM':'sum'}).reset_index()"
   ]
  },
  {
   "cell_type": "markdown",
   "metadata": {},
   "source": [
    "OK so it looks like the poverty analysis isn't showing what we thought. Let's see if there are any other crosses we can do that might make more sense."
   ]
  },
  {
   "cell_type": "code",
   "execution_count": null,
   "metadata": {},
   "outputs": [],
   "source": [
    "xl_diff_by_tract = xl_city_data.groupby(['tract_geoid']).agg({'dmean_diff':'mean','testSUM':'sum','deviceSUM':'sum'}).reset_index()\n",
    "xl_diff_by_tract = xl_diff_by_tract.merge(all_tract_demo[['tract_geoid','perc_white','perc_below_poverty','poverty_quartiles']],on='tract_geoid', how='left')"
   ]
  },
  {
   "cell_type": "code",
   "execution_count": null,
   "metadata": {},
   "outputs": [],
   "source": [
    "xl_diff_by_tract.groupby('poverty_quartiles').agg({'dmean_diff':'mean','testSUM':'sum','deviceSUM':'sum'}).reset_index()"
   ]
  },
  {
   "cell_type": "markdown",
   "metadata": {},
   "source": [
    "Very large cities are showing the trends we expect here. Higher poverty areas have, on average, a greater difference in the speeds experienced vs. speeds advertised."
   ]
  },
  {
   "cell_type": "code",
   "execution_count": null,
   "metadata": {},
   "outputs": [],
   "source": [
    "lg_diff_by_tract = lg_city_data.groupby(['tract_geoid']).agg({'dmean_diff':'mean','testSUM':'sum','deviceSUM':'sum'}).reset_index()\n",
    "lg_diff_by_tract = lg_diff_by_tract.merge(all_tract_demo[['tract_geoid','perc_white','perc_below_poverty','poverty_quartiles']],on='tract_geoid', how='left')"
   ]
  },
  {
   "cell_type": "code",
   "execution_count": null,
   "metadata": {},
   "outputs": [],
   "source": [
    "lg_diff_by_tract.groupby('poverty_quartiles').agg({'dmean_diff':'mean','testSUM':'sum','deviceSUM':'sum'}).reset_index()"
   ]
  },
  {
   "cell_type": "code",
   "execution_count": null,
   "metadata": {},
   "outputs": [],
   "source": [
    "md_diff_by_tract = md_city_data.groupby(['tract_geoid']).agg({'dmean_diff':'mean','testSUM':'sum','deviceSUM':'sum'}).reset_index()\n",
    "md_diff_by_tract = md_diff_by_tract.merge(all_tract_demo[['tract_geoid','perc_white','perc_below_poverty','poverty_quartiles']],on='tract_geoid', how='left')"
   ]
  },
  {
   "cell_type": "code",
   "execution_count": null,
   "metadata": {},
   "outputs": [],
   "source": [
    "md_diff_by_tract.groupby('poverty_quartiles').agg({'dmean_diff':'mean','testSUM':'sum','deviceSUM':'sum'}).reset_index()"
   ]
  },
  {
   "cell_type": "code",
   "execution_count": null,
   "metadata": {},
   "outputs": [],
   "source": [
    "by_city.loc[by_city['city_cat'] == 'midsized'].sort_values('dmean_diff',ascending=False).head(20)"
   ]
  },
  {
   "cell_type": "code",
   "execution_count": null,
   "metadata": {},
   "outputs": [],
   "source": [
    "len(by_city)"
   ]
  },
  {
   "cell_type": "code",
   "execution_count": null,
   "metadata": {},
   "outputs": [],
   "source": [
    "by_city.groupby('city_cat')['place_geoid'].count()"
   ]
  },
  {
   "cell_type": "code",
   "execution_count": null,
   "metadata": {},
   "outputs": [],
   "source": []
  }
 ],
 "metadata": {
  "kernelspec": {
   "display_name": "Python 3",
   "language": "python",
   "name": "python3"
  },
  "language_info": {
   "codemirror_mode": {
    "name": "ipython",
    "version": 3
   },
   "file_extension": ".py",
   "mimetype": "text/x-python",
   "name": "python",
   "nbconvert_exporter": "python",
   "pygments_lexer": "ipython3",
   "version": "3.8.2"
  }
 },
 "nbformat": 4,
 "nbformat_minor": 4
}
